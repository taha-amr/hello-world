{
  "nbformat": 4,
  "nbformat_minor": 0,
  "metadata": {
    "interpreter": {
      "hash": "e7370f93d1d0cde622a1f8e1c04877d8463912d04d973331ad4851f04de6915a"
    },
    "kernelspec": {
      "display_name": "Python 3.8.11 64-bit ('base': conda)",
      "language": "python",
      "name": "python3"
    },
    "language_info": {
      "codemirror_mode": {
        "name": "ipython",
        "version": 3
      },
      "file_extension": ".py",
      "mimetype": "text/x-python",
      "name": "python",
      "nbconvert_exporter": "python",
      "pygments_lexer": "ipython3",
      "version": "3.9.7"
    },
    "colab": {
      "name": "Regression_Mini-Project.ipynb",
      "provenance": [],
      "collapsed_sections": [],
      "include_colab_link": true
    }
  },
  "cells": [
    {
      "cell_type": "markdown",
      "metadata": {
        "id": "view-in-github",
        "colab_type": "text"
      },
      "source": [
        "<a href=\"https://colab.research.google.com/github/taha-amr/hello-world/blob/master/Regression_Mini_Project.ipynb\" target=\"_parent\"><img src=\"https://colab.research.google.com/assets/colab-badge.svg\" alt=\"Open In Colab\"/></a>"
      ]
    },
    {
      "cell_type": "markdown",
      "metadata": {
        "id": "6Tx6dwg8z3m5"
      },
      "source": [
        "# Linear Regression - Mini-Project 1\n"
      ]
    },
    {
      "cell_type": "markdown",
      "metadata": {
        "id": "EBxdDZCLz3nA"
      },
      "source": [
        "***Edit this cell with your name(s), tutorial number(s) and ID(s)***\n",
        "\n",
        "---\n",
        "\n",
        "Name: Taha Abdelsalam Amr\n",
        "\n",
        "ID: 46-2525\n",
        "\n",
        "Tutorial: T-01\n",
        "\n",
        "---\n",
        "\n",
        "Name: Abdelrahman Hussein\n",
        "\n",
        "ID: 46-0297\n",
        "\n",
        "Tutorial: T-01\n",
        "\n",
        "---\n"
      ]
    },
    {
      "cell_type": "markdown",
      "metadata": {
        "id": "79Op6NBEz3nC"
      },
      "source": [
        "## Dataset Description\n",
        "\n",
        "The dataset contains historical car auction sales prices, scraped from the outside internet sources and collected in 2015.\n",
        "\n",
        "Each row represents a sale at a used car auction. Each column is described below.\n",
        "\n",
        "| Column       | Description                                                                                          |\n",
        "| ------------ | ---------------------------------------------------------------------------------------------------- |\n",
        "| year         | Car's year of production                                                                             |\n",
        "| make         | Car make/brand                                                                                       |\n",
        "| model        | Car model                                                                                            |\n",
        "| trim         | Car's trim or grade, which specifies a car model's level of performance, features, options or extras |\n",
        "| body         | Car body type (e.g. Sedan, SUV, Coupe, etc.)                                                         |\n",
        "| transmission | Car transmission type. The mechanism that moves the power from the engine to the wheels.             |\n",
        "| vin          | Vehicle Identification Number, a unique code to identify individual motor vehicles.                  |\n",
        "| state        | The state in which the car was auctioned.                                                            |\n",
        "| condition    | The condition of the cars being at the time of auction, 5 being the best score and 1 being the worst.|\n",
        "| odometer     | The distance traveled by a vehicle since being manufactured, in miles                                |\n",
        "| color        | Exterior color of the car                                                                            |\n",
        "| interior     | Interior color of the car                                                                            |\n",
        "| seller       | The seller of the car or car dealer                                                                  |\n",
        "| mmr          | Manheim\\* Market Report, the market estimated price of the cars. An indicator of wholesale prices.   |\n",
        "| sellingprice | The price a car was sold at in auction.                                                              |\n",
        "| saledate     | The date on which the car has been sold.                                                             |\n",
        "\n",
        "\\*Manheim is a company established in 1945 as a car auction company. It has grown to a very reputable company and its MMR is a baseline tool for wholesale car price determination. They base their price calculations on over 10 million transaction over the past 13-month period to.\n"
      ]
    },
    {
      "cell_type": "markdown",
      "metadata": {
        "id": "MpGCCLC4z3nD"
      },
      "source": [
        "## Importing Libraries \\& Dataset\n"
      ]
    },
    {
      "cell_type": "code",
      "metadata": {
        "id": "RA_IGHrVz3nE",
        "colab": {
          "base_uri": "https://localhost:8080/",
          "height": 289
        },
        "outputId": "2be9dd8e-8604-4af2-83e5-a0d2d6ec1c13"
      },
      "source": [
        "import pandas as pd\n",
        "import numpy as np\n",
        "import matplotlib.pyplot as plt\n",
        "import seaborn as sns\n",
        "\n",
        "%matplotlib inline\n",
        "plt.style.use(\"seaborn\")\n",
        "\n",
        "try:\n",
        "    df = pd.read_csv('car_prices.csv')\n",
        "except:\n",
        "    df = pd.read_csv('https://raw.githubusercontent.com/GUC-DM/W2021/main/data/car_prices.csv')\n",
        "\n",
        "df.head()"
      ],
      "execution_count": null,
      "outputs": [
        {
          "output_type": "execute_result",
          "data": {
            "text/html": [
              "<div>\n",
              "<style scoped>\n",
              "    .dataframe tbody tr th:only-of-type {\n",
              "        vertical-align: middle;\n",
              "    }\n",
              "\n",
              "    .dataframe tbody tr th {\n",
              "        vertical-align: top;\n",
              "    }\n",
              "\n",
              "    .dataframe thead th {\n",
              "        text-align: right;\n",
              "    }\n",
              "</style>\n",
              "<table border=\"1\" class=\"dataframe\">\n",
              "  <thead>\n",
              "    <tr style=\"text-align: right;\">\n",
              "      <th></th>\n",
              "      <th>year</th>\n",
              "      <th>make</th>\n",
              "      <th>model</th>\n",
              "      <th>trim</th>\n",
              "      <th>body</th>\n",
              "      <th>transmission</th>\n",
              "      <th>vin</th>\n",
              "      <th>state</th>\n",
              "      <th>condition</th>\n",
              "      <th>odometer</th>\n",
              "      <th>color</th>\n",
              "      <th>interior</th>\n",
              "      <th>seller</th>\n",
              "      <th>mmr</th>\n",
              "      <th>sellingprice</th>\n",
              "      <th>saledate</th>\n",
              "    </tr>\n",
              "  </thead>\n",
              "  <tbody>\n",
              "    <tr>\n",
              "      <th>0</th>\n",
              "      <td>2013</td>\n",
              "      <td>Hyundai</td>\n",
              "      <td>Sonata</td>\n",
              "      <td>GLS</td>\n",
              "      <td>sedan</td>\n",
              "      <td>automatic</td>\n",
              "      <td>5npeb4acxdh702805</td>\n",
              "      <td>ma</td>\n",
              "      <td>3.9</td>\n",
              "      <td>50404.0mi</td>\n",
              "      <td>black</td>\n",
              "      <td>gray</td>\n",
              "      <td>the hertz corporation</td>\n",
              "      <td>$11000</td>\n",
              "      <td>$10900</td>\n",
              "      <td>Tue Jun 02 2015 02:30:00 GMT-0700 (PDT)</td>\n",
              "    </tr>\n",
              "    <tr>\n",
              "      <th>1</th>\n",
              "      <td>2014</td>\n",
              "      <td>Toyota</td>\n",
              "      <td>4Runner</td>\n",
              "      <td>SR5</td>\n",
              "      <td>SUV</td>\n",
              "      <td>automatic</td>\n",
              "      <td>jtezu5jr2e5064567</td>\n",
              "      <td>fl</td>\n",
              "      <td>4.9</td>\n",
              "      <td>17846.0mi</td>\n",
              "      <td>gray</td>\n",
              "      <td>—</td>\n",
              "      <td>award auto sales and leasing inc</td>\n",
              "      <td>$28700</td>\n",
              "      <td>$29900</td>\n",
              "      <td>Wed Feb 18 2015 07:15:00 GMT-0800 (PST)</td>\n",
              "    </tr>\n",
              "    <tr>\n",
              "      <th>2</th>\n",
              "      <td>2012</td>\n",
              "      <td>Lexus</td>\n",
              "      <td>IS 250</td>\n",
              "      <td>Base</td>\n",
              "      <td>Sedan</td>\n",
              "      <td>automatic</td>\n",
              "      <td>jthbf5c24c5168599</td>\n",
              "      <td>fl</td>\n",
              "      <td>4.1</td>\n",
              "      <td>21122.0mi</td>\n",
              "      <td>silver</td>\n",
              "      <td>black</td>\n",
              "      <td>lexus financial services</td>\n",
              "      <td>$22200</td>\n",
              "      <td>$24200</td>\n",
              "      <td>Tue Jan 20 2015 01:30:00 GMT-0800 (PST)</td>\n",
              "    </tr>\n",
              "    <tr>\n",
              "      <th>3</th>\n",
              "      <td>2002</td>\n",
              "      <td>BMW</td>\n",
              "      <td>X5</td>\n",
              "      <td>4.4i</td>\n",
              "      <td>SUV</td>\n",
              "      <td>automatic</td>\n",
              "      <td>5uxfb33562lh33864</td>\n",
              "      <td>fl</td>\n",
              "      <td>1.9</td>\n",
              "      <td>145303.0mi</td>\n",
              "      <td>black</td>\n",
              "      <td>black</td>\n",
              "      <td>peddle llc</td>\n",
              "      <td>$3675</td>\n",
              "      <td>$3200</td>\n",
              "      <td>Wed Mar 04 2015 07:10:00 GMT-0800 (PST)</td>\n",
              "    </tr>\n",
              "    <tr>\n",
              "      <th>4</th>\n",
              "      <td>2014</td>\n",
              "      <td>Ford</td>\n",
              "      <td>E-Series Van</td>\n",
              "      <td>E-250</td>\n",
              "      <td>E-Series Van</td>\n",
              "      <td>automatic</td>\n",
              "      <td>1ftne2ew0eda31832</td>\n",
              "      <td>wa</td>\n",
              "      <td>4.9</td>\n",
              "      <td>6714.0mi</td>\n",
              "      <td>white</td>\n",
              "      <td>gray</td>\n",
              "      <td>u-haul</td>\n",
              "      <td>$22500</td>\n",
              "      <td>$22100</td>\n",
              "      <td>Wed Feb 18 2015 06:45:00 GMT-0800 (PST)</td>\n",
              "    </tr>\n",
              "  </tbody>\n",
              "</table>\n",
              "</div>"
            ],
            "text/plain": [
              "   year     make  ... sellingprice                                 saledate\n",
              "0  2013  Hyundai  ...       $10900  Tue Jun 02 2015 02:30:00 GMT-0700 (PDT)\n",
              "1  2014   Toyota  ...       $29900  Wed Feb 18 2015 07:15:00 GMT-0800 (PST)\n",
              "2  2012    Lexus  ...       $24200  Tue Jan 20 2015 01:30:00 GMT-0800 (PST)\n",
              "3  2002      BMW  ...        $3200  Wed Mar 04 2015 07:10:00 GMT-0800 (PST)\n",
              "4  2014     Ford  ...       $22100  Wed Feb 18 2015 06:45:00 GMT-0800 (PST)\n",
              "\n",
              "[5 rows x 16 columns]"
            ]
          },
          "metadata": {},
          "execution_count": 1
        }
      ]
    },
    {
      "cell_type": "markdown",
      "metadata": {
        "id": "HWQpO4aGz3nH"
      },
      "source": [
        "## Data Inspection\n",
        "\n",
        "Perform data inspection tasks here (recommended for data understanding)."
      ]
    },
    {
      "cell_type": "code",
      "metadata": {
        "id": "iC_pDXOwz3nI",
        "colab": {
          "base_uri": "https://localhost:8080/",
          "height": 297
        },
        "outputId": "da192279-0a48-4a40-987c-4556cd182892"
      },
      "source": [
        "# describing the 2 numerical columns\n",
        "df.describe()"
      ],
      "execution_count": null,
      "outputs": [
        {
          "output_type": "execute_result",
          "data": {
            "text/html": [
              "<div>\n",
              "<style scoped>\n",
              "    .dataframe tbody tr th:only-of-type {\n",
              "        vertical-align: middle;\n",
              "    }\n",
              "\n",
              "    .dataframe tbody tr th {\n",
              "        vertical-align: top;\n",
              "    }\n",
              "\n",
              "    .dataframe thead th {\n",
              "        text-align: right;\n",
              "    }\n",
              "</style>\n",
              "<table border=\"1\" class=\"dataframe\">\n",
              "  <thead>\n",
              "    <tr style=\"text-align: right;\">\n",
              "      <th></th>\n",
              "      <th>year</th>\n",
              "      <th>condition</th>\n",
              "    </tr>\n",
              "  </thead>\n",
              "  <tbody>\n",
              "    <tr>\n",
              "      <th>count</th>\n",
              "      <td>46578.000000</td>\n",
              "      <td>46578.000000</td>\n",
              "    </tr>\n",
              "    <tr>\n",
              "      <th>mean</th>\n",
              "      <td>2010.203401</td>\n",
              "      <td>3.424265</td>\n",
              "    </tr>\n",
              "    <tr>\n",
              "      <th>std</th>\n",
              "      <td>3.831316</td>\n",
              "      <td>0.944009</td>\n",
              "    </tr>\n",
              "    <tr>\n",
              "      <th>min</th>\n",
              "      <td>1990.000000</td>\n",
              "      <td>1.000000</td>\n",
              "    </tr>\n",
              "    <tr>\n",
              "      <th>25%</th>\n",
              "      <td>2008.000000</td>\n",
              "      <td>2.700000</td>\n",
              "    </tr>\n",
              "    <tr>\n",
              "      <th>50%</th>\n",
              "      <td>2012.000000</td>\n",
              "      <td>3.600000</td>\n",
              "    </tr>\n",
              "    <tr>\n",
              "      <th>75%</th>\n",
              "      <td>2013.000000</td>\n",
              "      <td>4.200000</td>\n",
              "    </tr>\n",
              "    <tr>\n",
              "      <th>max</th>\n",
              "      <td>2015.000000</td>\n",
              "      <td>5.000000</td>\n",
              "    </tr>\n",
              "  </tbody>\n",
              "</table>\n",
              "</div>"
            ],
            "text/plain": [
              "               year     condition\n",
              "count  46578.000000  46578.000000\n",
              "mean    2010.203401      3.424265\n",
              "std        3.831316      0.944009\n",
              "min     1990.000000      1.000000\n",
              "25%     2008.000000      2.700000\n",
              "50%     2012.000000      3.600000\n",
              "75%     2013.000000      4.200000\n",
              "max     2015.000000      5.000000"
            ]
          },
          "metadata": {},
          "execution_count": 2
        }
      ]
    },
    {
      "cell_type": "code",
      "metadata": {
        "id": "4OHwu7QJcSxf",
        "colab": {
          "base_uri": "https://localhost:8080/",
          "height": 173
        },
        "outputId": "fba88f56-708f-485a-b5f9-79610c0407a4"
      },
      "source": [
        "# describing all columns including type object\n",
        "df.describe(include=[object])"
      ],
      "execution_count": null,
      "outputs": [
        {
          "output_type": "execute_result",
          "data": {
            "text/html": [
              "<div>\n",
              "<style scoped>\n",
              "    .dataframe tbody tr th:only-of-type {\n",
              "        vertical-align: middle;\n",
              "    }\n",
              "\n",
              "    .dataframe tbody tr th {\n",
              "        vertical-align: top;\n",
              "    }\n",
              "\n",
              "    .dataframe thead th {\n",
              "        text-align: right;\n",
              "    }\n",
              "</style>\n",
              "<table border=\"1\" class=\"dataframe\">\n",
              "  <thead>\n",
              "    <tr style=\"text-align: right;\">\n",
              "      <th></th>\n",
              "      <th>make</th>\n",
              "      <th>model</th>\n",
              "      <th>trim</th>\n",
              "      <th>body</th>\n",
              "      <th>transmission</th>\n",
              "      <th>vin</th>\n",
              "      <th>state</th>\n",
              "      <th>odometer</th>\n",
              "      <th>color</th>\n",
              "      <th>interior</th>\n",
              "      <th>seller</th>\n",
              "      <th>mmr</th>\n",
              "      <th>sellingprice</th>\n",
              "      <th>saledate</th>\n",
              "    </tr>\n",
              "  </thead>\n",
              "  <tbody>\n",
              "    <tr>\n",
              "      <th>count</th>\n",
              "      <td>46578</td>\n",
              "      <td>46578</td>\n",
              "      <td>46578</td>\n",
              "      <td>46578</td>\n",
              "      <td>46578</td>\n",
              "      <td>46578</td>\n",
              "      <td>46578</td>\n",
              "      <td>46578</td>\n",
              "      <td>46578</td>\n",
              "      <td>46578</td>\n",
              "      <td>46578</td>\n",
              "      <td>46578</td>\n",
              "      <td>46578</td>\n",
              "      <td>46578</td>\n",
              "    </tr>\n",
              "    <tr>\n",
              "      <th>unique</th>\n",
              "      <td>48</td>\n",
              "      <td>648</td>\n",
              "      <td>1097</td>\n",
              "      <td>71</td>\n",
              "      <td>2</td>\n",
              "      <td>46578</td>\n",
              "      <td>34</td>\n",
              "      <td>39460</td>\n",
              "      <td>20</td>\n",
              "      <td>17</td>\n",
              "      <td>4686</td>\n",
              "      <td>1021</td>\n",
              "      <td>953</td>\n",
              "      <td>2286</td>\n",
              "    </tr>\n",
              "    <tr>\n",
              "      <th>top</th>\n",
              "      <td>Ford</td>\n",
              "      <td>Altima</td>\n",
              "      <td>Base</td>\n",
              "      <td>Sedan</td>\n",
              "      <td>automatic</td>\n",
              "      <td>5npec4ac4ch440033</td>\n",
              "      <td>fl</td>\n",
              "      <td>1.0mi</td>\n",
              "      <td>black</td>\n",
              "      <td>black</td>\n",
              "      <td>ford motor credit company,llc</td>\n",
              "      <td>$11300</td>\n",
              "      <td>$12000</td>\n",
              "      <td>Tue Feb 10 2015 01:30:00 GMT-0800 (PST)</td>\n",
              "    </tr>\n",
              "    <tr>\n",
              "      <th>freq</th>\n",
              "      <td>7871</td>\n",
              "      <td>1610</td>\n",
              "      <td>4851</td>\n",
              "      <td>17171</td>\n",
              "      <td>44928</td>\n",
              "      <td>1</td>\n",
              "      <td>7451</td>\n",
              "      <td>86</td>\n",
              "      <td>9156</td>\n",
              "      <td>20734</td>\n",
              "      <td>1733</td>\n",
              "      <td>168</td>\n",
              "      <td>397</td>\n",
              "      <td>490</td>\n",
              "    </tr>\n",
              "  </tbody>\n",
              "</table>\n",
              "</div>"
            ],
            "text/plain": [
              "         make   model  ... sellingprice                                 saledate\n",
              "count   46578   46578  ...        46578                                    46578\n",
              "unique     48     648  ...          953                                     2286\n",
              "top      Ford  Altima  ...       $12000  Tue Feb 10 2015 01:30:00 GMT-0800 (PST)\n",
              "freq     7871    1610  ...          397                                      490\n",
              "\n",
              "[4 rows x 14 columns]"
            ]
          },
          "metadata": {},
          "execution_count": 3
        }
      ]
    },
    {
      "cell_type": "code",
      "metadata": {
        "id": "88vtOWmG2LdM",
        "colab": {
          "base_uri": "https://localhost:8080/"
        },
        "outputId": "5eba2cd9-1fd5-485b-b224-18934ddceab2"
      },
      "source": [
        "# know the shape of data (rows, columns)\n",
        "df.shape"
      ],
      "execution_count": null,
      "outputs": [
        {
          "output_type": "execute_result",
          "data": {
            "text/plain": [
              "(46578, 16)"
            ]
          },
          "metadata": {},
          "execution_count": 4
        }
      ]
    },
    {
      "cell_type": "code",
      "metadata": {
        "id": "pW0DQNFJ2QJo",
        "colab": {
          "base_uri": "https://localhost:8080/"
        },
        "outputId": "b4f59136-f253-4efb-a7f4-2a4c5fe4f677"
      },
      "source": [
        "# displaying dtypes of columns using info method\n",
        "df.info()"
      ],
      "execution_count": null,
      "outputs": [
        {
          "output_type": "stream",
          "name": "stdout",
          "text": [
            "<class 'pandas.core.frame.DataFrame'>\n",
            "RangeIndex: 46578 entries, 0 to 46577\n",
            "Data columns (total 16 columns):\n",
            " #   Column        Non-Null Count  Dtype  \n",
            "---  ------        --------------  -----  \n",
            " 0   year          46578 non-null  int64  \n",
            " 1   make          46578 non-null  object \n",
            " 2   model         46578 non-null  object \n",
            " 3   trim          46578 non-null  object \n",
            " 4   body          46578 non-null  object \n",
            " 5   transmission  46578 non-null  object \n",
            " 6   vin           46578 non-null  object \n",
            " 7   state         46578 non-null  object \n",
            " 8   condition     46578 non-null  float64\n",
            " 9   odometer      46578 non-null  object \n",
            " 10  color         46578 non-null  object \n",
            " 11  interior      46578 non-null  object \n",
            " 12  seller        46578 non-null  object \n",
            " 13  mmr           46578 non-null  object \n",
            " 14  sellingprice  46578 non-null  object \n",
            " 15  saledate      46578 non-null  object \n",
            "dtypes: float64(1), int64(1), object(14)\n",
            "memory usage: 5.7+ MB\n"
          ]
        }
      ]
    },
    {
      "cell_type": "code",
      "metadata": {
        "id": "DfXm8gUO2Y3n",
        "colab": {
          "base_uri": "https://localhost:8080/"
        },
        "outputId": "4ebdd6fc-ccf6-4ce8-ab47-b3fa974e2946"
      },
      "source": [
        "# counting total number of null values in each column\n",
        "df.isna().sum()"
      ],
      "execution_count": null,
      "outputs": [
        {
          "output_type": "execute_result",
          "data": {
            "text/plain": [
              "year            0\n",
              "make            0\n",
              "model           0\n",
              "trim            0\n",
              "body            0\n",
              "transmission    0\n",
              "vin             0\n",
              "state           0\n",
              "condition       0\n",
              "odometer        0\n",
              "color           0\n",
              "interior        0\n",
              "seller          0\n",
              "mmr             0\n",
              "sellingprice    0\n",
              "saledate        0\n",
              "dtype: int64"
            ]
          },
          "metadata": {},
          "execution_count": 6
        }
      ]
    },
    {
      "cell_type": "code",
      "metadata": {
        "id": "XOlvWHB-3Ms-",
        "colab": {
          "base_uri": "https://localhost:8080/"
        },
        "outputId": "4906b963-3de9-483d-e4b4-37bc45363fd7"
      },
      "source": [
        "# determining unique values in column transmission\n",
        "print(f\"{df.transmission} : {df['transmission'].unique()}\")"
      ],
      "execution_count": null,
      "outputs": [
        {
          "output_type": "stream",
          "name": "stdout",
          "text": [
            "0        automatic\n",
            "1        automatic\n",
            "2        automatic\n",
            "3        automatic\n",
            "4        automatic\n",
            "           ...    \n",
            "46573    automatic\n",
            "46574    automatic\n",
            "46575    automatic\n",
            "46576    automatic\n",
            "46577    automatic\n",
            "Name: transmission, Length: 46578, dtype: object : ['automatic' 'manual']\n"
          ]
        }
      ]
    },
    {
      "cell_type": "markdown",
      "metadata": {
        "id": "kIqrBCIfz3nJ"
      },
      "source": [
        "## Data Pre-Processing & Cleaning\n",
        "\n",
        "_Apply any data preprocessing and/or feature engineering below. Show/output the changes to the dataset._"
      ]
    },
    {
      "cell_type": "code",
      "metadata": {
        "id": "hOVYmx3Yz3nK",
        "colab": {
          "base_uri": "https://localhost:8080/"
        },
        "outputId": "e45275af-0612-47a2-a448-aba072dc1641"
      },
      "source": [
        "# changing mmr and selling price to int64\n",
        "df.mmr = df.mmr.str[1:]\n",
        "df.mmr = df.mmr.astype(int)\n",
        "\n",
        "df.sellingprice = df.sellingprice.str[1:]\n",
        "df.sellingprice = df.sellingprice.astype(int)\n",
        "df[['mmr', 'sellingprice']].dtypes"
      ],
      "execution_count": null,
      "outputs": [
        {
          "output_type": "execute_result",
          "data": {
            "text/plain": [
              "mmr             int64\n",
              "sellingprice    int64\n",
              "dtype: object"
            ]
          },
          "metadata": {},
          "execution_count": 8
        }
      ]
    },
    {
      "cell_type": "code",
      "metadata": {
        "id": "GDqotYIYcrcU"
      },
      "source": [
        "# changing odometer to float\n",
        "df.odometer = df.odometer.str[:-2]\n",
        "df.odometer = df.odometer.astype(float)"
      ],
      "execution_count": null,
      "outputs": []
    },
    {
      "cell_type": "code",
      "metadata": {
        "id": "W4A4zSxLhpAq",
        "colab": {
          "base_uri": "https://localhost:8080/"
        },
        "outputId": "01c4c20b-32c6-47ff-eb8e-e036c780d8b3"
      },
      "source": [
        "# changing saledate column to datetime\n",
        "df['saledate'] = pd.to_datetime(df['saledate'],utc=True)\n",
        "df.saledate.dtype"
      ],
      "execution_count": null,
      "outputs": [
        {
          "output_type": "execute_result",
          "data": {
            "text/plain": [
              "datetime64[ns, UTC]"
            ]
          },
          "metadata": {},
          "execution_count": 10
        }
      ]
    },
    {
      "cell_type": "code",
      "metadata": {
        "colab": {
          "base_uri": "https://localhost:8080/"
        },
        "id": "z8YrPyo9ibjF",
        "outputId": "f972d1ba-eb28-4008-f6e9-4f8568f382a6"
      },
      "source": [
        "# observing number of unique values in each column not exceeding 100 in total\n",
        "categorical_col = []\n",
        "for column in df.columns:\n",
        "    if df[column].dtype == object and len(df[column].unique()) <= 100:\n",
        "        categorical_col.append(column)\n",
        "        print(f\"{column} : {df[column].unique()}\")\n",
        "        print(\"====================================\")"
      ],
      "execution_count": null,
      "outputs": [
        {
          "output_type": "stream",
          "name": "stdout",
          "text": [
            "make : ['Hyundai' 'Toyota' 'Lexus' 'BMW' 'Ford' 'Kia' 'Chevrolet' 'Cadillac'\n",
            " 'Mercedes-Benz' 'Jeep' 'Infiniti' 'Lincoln' 'Mazda' 'Chrysler' 'GMC'\n",
            " 'Honda' 'Dodge' 'Audi' 'Nissan' 'Buick' 'MINI' 'Jaguar' 'Volvo'\n",
            " 'Mitsubishi' 'Volkswagen' 'Subaru' 'Porsche' 'Isuzu' 'Saturn' 'Pontiac'\n",
            " 'Scion' 'Acura' 'Ram' 'Land Rover' 'Suzuki' 'Mercury' 'HUMMER' 'Saab'\n",
            " 'Maserati' 'FIAT' 'Geo' 'smart' 'Oldsmobile' 'Fisker' 'Bentley'\n",
            " 'Plymouth' 'Ferrari' 'Aston Martin']\n",
            "====================================\n",
            "body : ['sedan' 'SUV' 'Sedan' 'E-Series Van' 'Crew Cab' 'suv' 'G Sedan' 'Wagon'\n",
            " 'Regular Cab' 'Double Cab' 'wagon' 'Coupe' 'Minivan' 'SuperCrew' 'coupe'\n",
            " 'convertible' 'Extended Cab' 'Hatchback' 'van' 'hatchback' 'Van'\n",
            " 'Convertible' 'SuperCab' 'g sedan' 'king cab' 'G Convertible' 'King Cab'\n",
            " 'extended cab' 'quad cab' 'supercab' 'Beetle Convertible' 'minivan'\n",
            " 'G Coupe' 'Quad Cab' 'crew cab' 'supercrew' 'CrewMax Cab' 'double cab'\n",
            " 'g coupe' 'Club Cab' 'Access Cab' 'Genesis Coupe' 'e-series van'\n",
            " 'G37 Convertible' 'Cab Plus 4' 'crewmax cab' 'genesis coupe'\n",
            " 'promaster cargo van' 'access cab' 'Mega Cab' 'Koup' 'regular cab'\n",
            " 'mega cab' 'Elantra Coupe' 'Q60 Convertible' 'regular-cab'\n",
            " 'Promaster Cargo Van' 'Xtracab' 'CTS Coupe' 'CTS Wagon'\n",
            " 'GranTurismo Convertible' 'beetle convertible' 'TSX Sport Wagon'\n",
            " 'g convertible' 'tsx sport wagon' 'CTS-V Coupe' 'Q60 Coupe'\n",
            " 'granturismo convertible' 'cts coupe' 'Transit Van' 'xtracab']\n",
            "====================================\n",
            "transmission : ['automatic' 'manual']\n",
            "====================================\n",
            "state : ['ma' 'fl' 'wa' 'co' 'ca' 'il' 'nv' 'mo' 'tx' 'ne' 'md' 'nj' 'la' 'ny'\n",
            " 'nc' 'ut' 'va' 'ga' 'tn' 'oh' 'ms' 'pa' 'or' 'mi' 'wi' 'az' 'pr' 'mn'\n",
            " 'in' 'hi' 'sc' 'ok' 'nm' 'al']\n",
            "====================================\n",
            "color : ['black' 'gray' 'silver' 'white' 'blue' 'burgundy' 'beige' 'gold' 'green'\n",
            " 'red' 'purple' '—' 'yellow' 'brown' 'turquoise' 'orange' 'off-white'\n",
            " 'charcoal' 'pink' 'lime']\n",
            "====================================\n",
            "interior : ['gray' '—' 'black' 'beige' 'tan' 'red' 'blue' 'brown' 'off-white'\n",
            " 'silver' 'orange' 'purple' 'white' 'gold' 'burgundy' 'green' 'yellow']\n",
            "====================================\n"
          ]
        }
      ]
    },
    {
      "cell_type": "code",
      "metadata": {
        "id": "9RedNpbzgaIw"
      },
      "source": [
        "# changing dashed enteries to be more representable to unknown\n",
        "df.loc[df[\"color\"]==\"—\",\"color\"]=df.color.mode()\n",
        "df.loc[df[\"interior\"]==\"—\",\"interior\"]=df.interior.mode()"
      ],
      "execution_count": null,
      "outputs": []
    },
    {
      "cell_type": "code",
      "metadata": {
        "colab": {
          "base_uri": "https://localhost:8080/"
        },
        "id": "TGRWMk7HhBVu",
        "outputId": "c0953310-46d9-4aad-837e-eb1915783b74"
      },
      "source": [
        "# re-observing number of unique values in each column not exceeding 100 in total to see changes\n",
        "categorical_col = []\n",
        "for column in df.columns:\n",
        "    if df[column].dtype == object and len(df[column].unique()) <= 100:\n",
        "        categorical_col.append(column)\n",
        "        print(f\"{column} : {df[column].unique()}\")\n",
        "        print(\"====================================\")"
      ],
      "execution_count": null,
      "outputs": [
        {
          "output_type": "stream",
          "name": "stdout",
          "text": [
            "make : ['Hyundai' 'Toyota' 'Lexus' 'BMW' 'Ford' 'Kia' 'Chevrolet' 'Cadillac'\n",
            " 'Mercedes-Benz' 'Jeep' 'Infiniti' 'Lincoln' 'Mazda' 'Chrysler' 'GMC'\n",
            " 'Honda' 'Dodge' 'Audi' 'Nissan' 'Buick' 'MINI' 'Jaguar' 'Volvo'\n",
            " 'Mitsubishi' 'Volkswagen' 'Subaru' 'Porsche' 'Isuzu' 'Saturn' 'Pontiac'\n",
            " 'Scion' 'Acura' 'Ram' 'Land Rover' 'Suzuki' 'Mercury' 'HUMMER' 'Saab'\n",
            " 'Maserati' 'FIAT' 'Geo' 'smart' 'Oldsmobile' 'Fisker' 'Bentley'\n",
            " 'Plymouth' 'Ferrari' 'Aston Martin']\n",
            "====================================\n",
            "body : ['sedan' 'SUV' 'Sedan' 'E-Series Van' 'Crew Cab' 'suv' 'G Sedan' 'Wagon'\n",
            " 'Regular Cab' 'Double Cab' 'wagon' 'Coupe' 'Minivan' 'SuperCrew' 'coupe'\n",
            " 'convertible' 'Extended Cab' 'Hatchback' 'van' 'hatchback' 'Van'\n",
            " 'Convertible' 'SuperCab' 'g sedan' 'king cab' 'G Convertible' 'King Cab'\n",
            " 'extended cab' 'quad cab' 'supercab' 'Beetle Convertible' 'minivan'\n",
            " 'G Coupe' 'Quad Cab' 'crew cab' 'supercrew' 'CrewMax Cab' 'double cab'\n",
            " 'g coupe' 'Club Cab' 'Access Cab' 'Genesis Coupe' 'e-series van'\n",
            " 'G37 Convertible' 'Cab Plus 4' 'crewmax cab' 'genesis coupe'\n",
            " 'promaster cargo van' 'access cab' 'Mega Cab' 'Koup' 'regular cab'\n",
            " 'mega cab' 'Elantra Coupe' 'Q60 Convertible' 'regular-cab'\n",
            " 'Promaster Cargo Van' 'Xtracab' 'CTS Coupe' 'CTS Wagon'\n",
            " 'GranTurismo Convertible' 'beetle convertible' 'TSX Sport Wagon'\n",
            " 'g convertible' 'tsx sport wagon' 'CTS-V Coupe' 'Q60 Coupe'\n",
            " 'granturismo convertible' 'cts coupe' 'Transit Van' 'xtracab']\n",
            "====================================\n",
            "transmission : ['automatic' 'manual']\n",
            "====================================\n",
            "state : ['ma' 'fl' 'wa' 'co' 'ca' 'il' 'nv' 'mo' 'tx' 'ne' 'md' 'nj' 'la' 'ny'\n",
            " 'nc' 'ut' 'va' 'ga' 'tn' 'oh' 'ms' 'pa' 'or' 'mi' 'wi' 'az' 'pr' 'mn'\n",
            " 'in' 'hi' 'sc' 'ok' 'nm' 'al']\n",
            "====================================\n",
            "color : ['black' 'gray' 'silver' 'white' 'blue' 'burgundy' 'beige' 'gold' 'green'\n",
            " 'red' 'purple' nan 'yellow' 'brown' 'turquoise' 'orange' 'off-white'\n",
            " 'charcoal' 'pink' 'lime']\n",
            "====================================\n",
            "interior : ['gray' nan 'black' 'beige' 'tan' 'red' 'blue' 'brown' 'off-white'\n",
            " 'silver' 'orange' 'purple' 'white' 'gold' 'burgundy' 'green' 'yellow']\n",
            "====================================\n"
          ]
        }
      ]
    },
    {
      "cell_type": "code",
      "metadata": {
        "colab": {
          "base_uri": "https://localhost:8080/",
          "height": 421
        },
        "id": "RHaXad62jENw",
        "outputId": "744bde22-f0b5-4f14-8f39-9aef46c42519"
      },
      "source": [
        "# preparing body column for cleaning by first making all enteries to lower case\n",
        "df['body'] = df['body'].str.lower()\n",
        "df[df['body']=='koup']"
      ],
      "execution_count": null,
      "outputs": [
        {
          "output_type": "execute_result",
          "data": {
            "text/html": [
              "<div>\n",
              "<style scoped>\n",
              "    .dataframe tbody tr th:only-of-type {\n",
              "        vertical-align: middle;\n",
              "    }\n",
              "\n",
              "    .dataframe tbody tr th {\n",
              "        vertical-align: top;\n",
              "    }\n",
              "\n",
              "    .dataframe thead th {\n",
              "        text-align: right;\n",
              "    }\n",
              "</style>\n",
              "<table border=\"1\" class=\"dataframe\">\n",
              "  <thead>\n",
              "    <tr style=\"text-align: right;\">\n",
              "      <th></th>\n",
              "      <th>year</th>\n",
              "      <th>make</th>\n",
              "      <th>model</th>\n",
              "      <th>trim</th>\n",
              "      <th>body</th>\n",
              "      <th>transmission</th>\n",
              "      <th>vin</th>\n",
              "      <th>state</th>\n",
              "      <th>condition</th>\n",
              "      <th>odometer</th>\n",
              "      <th>color</th>\n",
              "      <th>interior</th>\n",
              "      <th>seller</th>\n",
              "      <th>mmr</th>\n",
              "      <th>sellingprice</th>\n",
              "      <th>saledate</th>\n",
              "    </tr>\n",
              "  </thead>\n",
              "  <tbody>\n",
              "    <tr>\n",
              "      <th>3495</th>\n",
              "      <td>2012</td>\n",
              "      <td>Kia</td>\n",
              "      <td>Forte</td>\n",
              "      <td>Koup SX</td>\n",
              "      <td>koup</td>\n",
              "      <td>automatic</td>\n",
              "      <td>knafw6a38c5532315</td>\n",
              "      <td>nj</td>\n",
              "      <td>2.7</td>\n",
              "      <td>41580.0</td>\n",
              "      <td>red</td>\n",
              "      <td>black</td>\n",
              "      <td>kia motors finance</td>\n",
              "      <td>10750</td>\n",
              "      <td>11400</td>\n",
              "      <td>2015-05-26 19:30:00+00:00</td>\n",
              "    </tr>\n",
              "    <tr>\n",
              "      <th>3572</th>\n",
              "      <td>2010</td>\n",
              "      <td>Kia</td>\n",
              "      <td>Forte</td>\n",
              "      <td>Koup EX</td>\n",
              "      <td>koup</td>\n",
              "      <td>automatic</td>\n",
              "      <td>knafu6a26a5118010</td>\n",
              "      <td>in</td>\n",
              "      <td>3.5</td>\n",
              "      <td>63678.0</td>\n",
              "      <td>blue</td>\n",
              "      <td>black</td>\n",
              "      <td>santander consumer</td>\n",
              "      <td>6950</td>\n",
              "      <td>7200</td>\n",
              "      <td>2015-01-21 18:10:00+00:00</td>\n",
              "    </tr>\n",
              "    <tr>\n",
              "      <th>10355</th>\n",
              "      <td>2012</td>\n",
              "      <td>Kia</td>\n",
              "      <td>Forte</td>\n",
              "      <td>Koup SX</td>\n",
              "      <td>koup</td>\n",
              "      <td>automatic</td>\n",
              "      <td>knafw6a35c5517643</td>\n",
              "      <td>fl</td>\n",
              "      <td>2.9</td>\n",
              "      <td>24561.0</td>\n",
              "      <td>black</td>\n",
              "      <td>black</td>\n",
              "      <td>kia motors finance</td>\n",
              "      <td>12350</td>\n",
              "      <td>11100</td>\n",
              "      <td>2015-03-02 17:30:00+00:00</td>\n",
              "    </tr>\n",
              "    <tr>\n",
              "      <th>16550</th>\n",
              "      <td>2012</td>\n",
              "      <td>Kia</td>\n",
              "      <td>Forte</td>\n",
              "      <td>Koup SX</td>\n",
              "      <td>koup</td>\n",
              "      <td>automatic</td>\n",
              "      <td>knafw6a32c5620308</td>\n",
              "      <td>pr</td>\n",
              "      <td>4.1</td>\n",
              "      <td>31365.0</td>\n",
              "      <td>gray</td>\n",
              "      <td>black</td>\n",
              "      <td>oriental bank</td>\n",
              "      <td>11250</td>\n",
              "      <td>12900</td>\n",
              "      <td>2015-01-14 19:30:00+00:00</td>\n",
              "    </tr>\n",
              "    <tr>\n",
              "      <th>16642</th>\n",
              "      <td>2010</td>\n",
              "      <td>Kia</td>\n",
              "      <td>Forte</td>\n",
              "      <td>Koup EX</td>\n",
              "      <td>koup</td>\n",
              "      <td>automatic</td>\n",
              "      <td>knafu6a24a5110830</td>\n",
              "      <td>ga</td>\n",
              "      <td>2.4</td>\n",
              "      <td>77533.0</td>\n",
              "      <td>silver</td>\n",
              "      <td>NaN</td>\n",
              "      <td>jpmorgan chase bank,n.a.</td>\n",
              "      <td>6450</td>\n",
              "      <td>6100</td>\n",
              "      <td>2015-01-21 18:00:00+00:00</td>\n",
              "    </tr>\n",
              "    <tr>\n",
              "      <th>22209</th>\n",
              "      <td>2013</td>\n",
              "      <td>Kia</td>\n",
              "      <td>Forte</td>\n",
              "      <td>Koup EX</td>\n",
              "      <td>koup</td>\n",
              "      <td>automatic</td>\n",
              "      <td>knafu6a20d5701578</td>\n",
              "      <td>tx</td>\n",
              "      <td>2.1</td>\n",
              "      <td>29454.0</td>\n",
              "      <td>white</td>\n",
              "      <td>gray</td>\n",
              "      <td>wells fargo dealer services</td>\n",
              "      <td>11100</td>\n",
              "      <td>9700</td>\n",
              "      <td>2015-01-20 18:00:00+00:00</td>\n",
              "    </tr>\n",
              "    <tr>\n",
              "      <th>22764</th>\n",
              "      <td>2012</td>\n",
              "      <td>Kia</td>\n",
              "      <td>Forte</td>\n",
              "      <td>Koup EX</td>\n",
              "      <td>koup</td>\n",
              "      <td>automatic</td>\n",
              "      <td>knafu6a20c5556475</td>\n",
              "      <td>nj</td>\n",
              "      <td>2.4</td>\n",
              "      <td>24084.0</td>\n",
              "      <td>silver</td>\n",
              "      <td>black</td>\n",
              "      <td>kia motors finance</td>\n",
              "      <td>10800</td>\n",
              "      <td>9100</td>\n",
              "      <td>2015-05-26 19:30:00+00:00</td>\n",
              "    </tr>\n",
              "    <tr>\n",
              "      <th>29283</th>\n",
              "      <td>2011</td>\n",
              "      <td>Kia</td>\n",
              "      <td>Forte</td>\n",
              "      <td>Koup SX</td>\n",
              "      <td>koup</td>\n",
              "      <td>automatic</td>\n",
              "      <td>knafw6a37b5366660</td>\n",
              "      <td>oh</td>\n",
              "      <td>4.3</td>\n",
              "      <td>81401.0</td>\n",
              "      <td>blue</td>\n",
              "      <td>black</td>\n",
              "      <td>pauley motor car co preowned vehicles llc</td>\n",
              "      <td>7250</td>\n",
              "      <td>9700</td>\n",
              "      <td>2015-02-02 17:30:00+00:00</td>\n",
              "    </tr>\n",
              "    <tr>\n",
              "      <th>41213</th>\n",
              "      <td>2012</td>\n",
              "      <td>Kia</td>\n",
              "      <td>Forte</td>\n",
              "      <td>Koup EX</td>\n",
              "      <td>koup</td>\n",
              "      <td>automatic</td>\n",
              "      <td>knafu6a2xc5560503</td>\n",
              "      <td>ga</td>\n",
              "      <td>3.4</td>\n",
              "      <td>109365.0</td>\n",
              "      <td>silver</td>\n",
              "      <td>black</td>\n",
              "      <td>tdaf remarketing</td>\n",
              "      <td>8625</td>\n",
              "      <td>7000</td>\n",
              "      <td>2015-02-18 18:00:00+00:00</td>\n",
              "    </tr>\n",
              "    <tr>\n",
              "      <th>41653</th>\n",
              "      <td>2012</td>\n",
              "      <td>Kia</td>\n",
              "      <td>Forte</td>\n",
              "      <td>Koup EX</td>\n",
              "      <td>koup</td>\n",
              "      <td>automatic</td>\n",
              "      <td>knafu6a21c5582406</td>\n",
              "      <td>oh</td>\n",
              "      <td>2.7</td>\n",
              "      <td>39540.0</td>\n",
              "      <td>white</td>\n",
              "      <td>black</td>\n",
              "      <td>hyundai motor finance</td>\n",
              "      <td>10000</td>\n",
              "      <td>9500</td>\n",
              "      <td>2015-06-01 19:30:00+00:00</td>\n",
              "    </tr>\n",
              "    <tr>\n",
              "      <th>44150</th>\n",
              "      <td>2010</td>\n",
              "      <td>Kia</td>\n",
              "      <td>Forte</td>\n",
              "      <td>Koup SX</td>\n",
              "      <td>koup</td>\n",
              "      <td>automatic</td>\n",
              "      <td>knafw6a34a5158394</td>\n",
              "      <td>nj</td>\n",
              "      <td>4.3</td>\n",
              "      <td>55311.0</td>\n",
              "      <td>blue</td>\n",
              "      <td>gray</td>\n",
              "      <td>gateway of quakertown</td>\n",
              "      <td>8425</td>\n",
              "      <td>9750</td>\n",
              "      <td>2015-02-10 17:30:00+00:00</td>\n",
              "    </tr>\n",
              "    <tr>\n",
              "      <th>44407</th>\n",
              "      <td>2010</td>\n",
              "      <td>Kia</td>\n",
              "      <td>Forte</td>\n",
              "      <td>Koup SX</td>\n",
              "      <td>koup</td>\n",
              "      <td>automatic</td>\n",
              "      <td>knafw6a31a5174553</td>\n",
              "      <td>nc</td>\n",
              "      <td>4.1</td>\n",
              "      <td>24767.0</td>\n",
              "      <td>red</td>\n",
              "      <td>black</td>\n",
              "      <td>gm financial</td>\n",
              "      <td>10100</td>\n",
              "      <td>9700</td>\n",
              "      <td>2015-01-19 17:15:00+00:00</td>\n",
              "    </tr>\n",
              "  </tbody>\n",
              "</table>\n",
              "</div>"
            ],
            "text/plain": [
              "       year make  model  ...    mmr sellingprice                  saledate\n",
              "3495   2012  Kia  Forte  ...  10750        11400 2015-05-26 19:30:00+00:00\n",
              "3572   2010  Kia  Forte  ...   6950         7200 2015-01-21 18:10:00+00:00\n",
              "10355  2012  Kia  Forte  ...  12350        11100 2015-03-02 17:30:00+00:00\n",
              "16550  2012  Kia  Forte  ...  11250        12900 2015-01-14 19:30:00+00:00\n",
              "16642  2010  Kia  Forte  ...   6450         6100 2015-01-21 18:00:00+00:00\n",
              "22209  2013  Kia  Forte  ...  11100         9700 2015-01-20 18:00:00+00:00\n",
              "22764  2012  Kia  Forte  ...  10800         9100 2015-05-26 19:30:00+00:00\n",
              "29283  2011  Kia  Forte  ...   7250         9700 2015-02-02 17:30:00+00:00\n",
              "41213  2012  Kia  Forte  ...   8625         7000 2015-02-18 18:00:00+00:00\n",
              "41653  2012  Kia  Forte  ...  10000         9500 2015-06-01 19:30:00+00:00\n",
              "44150  2010  Kia  Forte  ...   8425         9750 2015-02-10 17:30:00+00:00\n",
              "44407  2010  Kia  Forte  ...  10100         9700 2015-01-19 17:15:00+00:00\n",
              "\n",
              "[12 rows x 16 columns]"
            ]
          },
          "metadata": {},
          "execution_count": 14
        }
      ]
    },
    {
      "cell_type": "code",
      "metadata": {
        "colab": {
          "base_uri": "https://localhost:8080/",
          "height": 589
        },
        "id": "7Ru-992fkRwi",
        "outputId": "60637f98-759e-4eef-eaa6-a578f81c9be0"
      },
      "source": [
        "# data inspection\n",
        "df.loc[df['body'].str.contains('van')]"
      ],
      "execution_count": null,
      "outputs": [
        {
          "output_type": "execute_result",
          "data": {
            "text/html": [
              "<div>\n",
              "<style scoped>\n",
              "    .dataframe tbody tr th:only-of-type {\n",
              "        vertical-align: middle;\n",
              "    }\n",
              "\n",
              "    .dataframe tbody tr th {\n",
              "        vertical-align: top;\n",
              "    }\n",
              "\n",
              "    .dataframe thead th {\n",
              "        text-align: right;\n",
              "    }\n",
              "</style>\n",
              "<table border=\"1\" class=\"dataframe\">\n",
              "  <thead>\n",
              "    <tr style=\"text-align: right;\">\n",
              "      <th></th>\n",
              "      <th>year</th>\n",
              "      <th>make</th>\n",
              "      <th>model</th>\n",
              "      <th>trim</th>\n",
              "      <th>body</th>\n",
              "      <th>transmission</th>\n",
              "      <th>vin</th>\n",
              "      <th>state</th>\n",
              "      <th>condition</th>\n",
              "      <th>odometer</th>\n",
              "      <th>color</th>\n",
              "      <th>interior</th>\n",
              "      <th>seller</th>\n",
              "      <th>mmr</th>\n",
              "      <th>sellingprice</th>\n",
              "      <th>saledate</th>\n",
              "    </tr>\n",
              "  </thead>\n",
              "  <tbody>\n",
              "    <tr>\n",
              "      <th>4</th>\n",
              "      <td>2014</td>\n",
              "      <td>Ford</td>\n",
              "      <td>E-Series Van</td>\n",
              "      <td>E-250</td>\n",
              "      <td>e-series van</td>\n",
              "      <td>automatic</td>\n",
              "      <td>1ftne2ew0eda31832</td>\n",
              "      <td>wa</td>\n",
              "      <td>4.9</td>\n",
              "      <td>6714.0</td>\n",
              "      <td>white</td>\n",
              "      <td>gray</td>\n",
              "      <td>u-haul</td>\n",
              "      <td>22500</td>\n",
              "      <td>22100</td>\n",
              "      <td>2015-02-17 22:45:00+00:00</td>\n",
              "    </tr>\n",
              "    <tr>\n",
              "      <th>20</th>\n",
              "      <td>2008</td>\n",
              "      <td>Honda</td>\n",
              "      <td>Odyssey</td>\n",
              "      <td>Touring</td>\n",
              "      <td>minivan</td>\n",
              "      <td>automatic</td>\n",
              "      <td>5fnrl38938b007721</td>\n",
              "      <td>nc</td>\n",
              "      <td>3.5</td>\n",
              "      <td>137852.0</td>\n",
              "      <td>white</td>\n",
              "      <td>beige</td>\n",
              "      <td>rick hendrick chevrolet buick gmc</td>\n",
              "      <td>8500</td>\n",
              "      <td>8900</td>\n",
              "      <td>2015-02-15 17:30:00+00:00</td>\n",
              "    </tr>\n",
              "    <tr>\n",
              "      <th>24</th>\n",
              "      <td>2012</td>\n",
              "      <td>Toyota</td>\n",
              "      <td>Sienna</td>\n",
              "      <td>LE 8-Passenger</td>\n",
              "      <td>minivan</td>\n",
              "      <td>automatic</td>\n",
              "      <td>5tdka3dc9cs013147</td>\n",
              "      <td>fl</td>\n",
              "      <td>4.1</td>\n",
              "      <td>25446.0</td>\n",
              "      <td>blue</td>\n",
              "      <td>gray</td>\n",
              "      <td>world omni financial corporation</td>\n",
              "      <td>17850</td>\n",
              "      <td>17800</td>\n",
              "      <td>2015-01-26 17:30:00+00:00</td>\n",
              "    </tr>\n",
              "    <tr>\n",
              "      <th>38</th>\n",
              "      <td>2014</td>\n",
              "      <td>Chrysler</td>\n",
              "      <td>Town and Country</td>\n",
              "      <td>Touring</td>\n",
              "      <td>minivan</td>\n",
              "      <td>automatic</td>\n",
              "      <td>2c4rc1bg4er269758</td>\n",
              "      <td>fl</td>\n",
              "      <td>4.0</td>\n",
              "      <td>29336.0</td>\n",
              "      <td>silver</td>\n",
              "      <td>black</td>\n",
              "      <td>pv holding inc/gdp</td>\n",
              "      <td>18550</td>\n",
              "      <td>18900</td>\n",
              "      <td>2015-03-01 20:30:00+00:00</td>\n",
              "    </tr>\n",
              "    <tr>\n",
              "      <th>72</th>\n",
              "      <td>2014</td>\n",
              "      <td>GMC</td>\n",
              "      <td>Savana Cargo</td>\n",
              "      <td>2500</td>\n",
              "      <td>van</td>\n",
              "      <td>automatic</td>\n",
              "      <td>1gtw7fca8e1909666</td>\n",
              "      <td>or</td>\n",
              "      <td>4.7</td>\n",
              "      <td>9370.0</td>\n",
              "      <td>white</td>\n",
              "      <td>gray</td>\n",
              "      <td>u-haul</td>\n",
              "      <td>19800</td>\n",
              "      <td>19300</td>\n",
              "      <td>2015-06-08 22:30:00+00:00</td>\n",
              "    </tr>\n",
              "    <tr>\n",
              "      <th>...</th>\n",
              "      <td>...</td>\n",
              "      <td>...</td>\n",
              "      <td>...</td>\n",
              "      <td>...</td>\n",
              "      <td>...</td>\n",
              "      <td>...</td>\n",
              "      <td>...</td>\n",
              "      <td>...</td>\n",
              "      <td>...</td>\n",
              "      <td>...</td>\n",
              "      <td>...</td>\n",
              "      <td>...</td>\n",
              "      <td>...</td>\n",
              "      <td>...</td>\n",
              "      <td>...</td>\n",
              "      <td>...</td>\n",
              "    </tr>\n",
              "    <tr>\n",
              "      <th>46463</th>\n",
              "      <td>2005</td>\n",
              "      <td>Chrysler</td>\n",
              "      <td>Town and Country</td>\n",
              "      <td>Touring</td>\n",
              "      <td>minivan</td>\n",
              "      <td>automatic</td>\n",
              "      <td>2c4gp54l55r157080</td>\n",
              "      <td>wi</td>\n",
              "      <td>2.3</td>\n",
              "      <td>85894.0</td>\n",
              "      <td>gray</td>\n",
              "      <td>gray</td>\n",
              "      <td>arlington hgts chry dod jeep</td>\n",
              "      <td>3625</td>\n",
              "      <td>2850</td>\n",
              "      <td>2015-01-13 18:00:00+00:00</td>\n",
              "    </tr>\n",
              "    <tr>\n",
              "      <th>46480</th>\n",
              "      <td>2012</td>\n",
              "      <td>Toyota</td>\n",
              "      <td>Sienna</td>\n",
              "      <td>LE 8-Passenger</td>\n",
              "      <td>minivan</td>\n",
              "      <td>automatic</td>\n",
              "      <td>5tdkk3dc4cs194736</td>\n",
              "      <td>fl</td>\n",
              "      <td>2.9</td>\n",
              "      <td>44691.0</td>\n",
              "      <td>gray</td>\n",
              "      <td>gray</td>\n",
              "      <td>world omni financial corporation</td>\n",
              "      <td>17000</td>\n",
              "      <td>15400</td>\n",
              "      <td>2015-02-23 17:30:00+00:00</td>\n",
              "    </tr>\n",
              "    <tr>\n",
              "      <th>46491</th>\n",
              "      <td>2012</td>\n",
              "      <td>Honda</td>\n",
              "      <td>Odyssey</td>\n",
              "      <td>EX</td>\n",
              "      <td>minivan</td>\n",
              "      <td>automatic</td>\n",
              "      <td>5fnrl5h42cb026897</td>\n",
              "      <td>pa</td>\n",
              "      <td>3.2</td>\n",
              "      <td>47617.0</td>\n",
              "      <td>gold</td>\n",
              "      <td>gray</td>\n",
              "      <td>ahfc/honda lease trust/hvt, inc. eot</td>\n",
              "      <td>18250</td>\n",
              "      <td>17000</td>\n",
              "      <td>2015-01-29 17:00:00+00:00</td>\n",
              "    </tr>\n",
              "    <tr>\n",
              "      <th>46512</th>\n",
              "      <td>2001</td>\n",
              "      <td>Pontiac</td>\n",
              "      <td>Montana</td>\n",
              "      <td>Base</td>\n",
              "      <td>minivan</td>\n",
              "      <td>automatic</td>\n",
              "      <td>1gmdx03e01d202007</td>\n",
              "      <td>fl</td>\n",
              "      <td>3.3</td>\n",
              "      <td>92672.0</td>\n",
              "      <td>gold</td>\n",
              "      <td>tan</td>\n",
              "      <td>autonation lincoln clearwater</td>\n",
              "      <td>1275</td>\n",
              "      <td>2000</td>\n",
              "      <td>2015-01-20 02:00:00+00:00</td>\n",
              "    </tr>\n",
              "    <tr>\n",
              "      <th>46519</th>\n",
              "      <td>2014</td>\n",
              "      <td>Toyota</td>\n",
              "      <td>Sienna</td>\n",
              "      <td>LE 7-Passenger Mobility Auto Access</td>\n",
              "      <td>minivan</td>\n",
              "      <td>automatic</td>\n",
              "      <td>5tdkk3dc0es456478</td>\n",
              "      <td>tx</td>\n",
              "      <td>3.8</td>\n",
              "      <td>35951.0</td>\n",
              "      <td>gray</td>\n",
              "      <td>gray</td>\n",
              "      <td>avis corporation</td>\n",
              "      <td>21200</td>\n",
              "      <td>21400</td>\n",
              "      <td>2015-06-02 20:15:00+00:00</td>\n",
              "    </tr>\n",
              "  </tbody>\n",
              "</table>\n",
              "<p>2632 rows × 16 columns</p>\n",
              "</div>"
            ],
            "text/plain": [
              "       year      make  ... sellingprice                  saledate\n",
              "4      2014      Ford  ...        22100 2015-02-17 22:45:00+00:00\n",
              "20     2008     Honda  ...         8900 2015-02-15 17:30:00+00:00\n",
              "24     2012    Toyota  ...        17800 2015-01-26 17:30:00+00:00\n",
              "38     2014  Chrysler  ...        18900 2015-03-01 20:30:00+00:00\n",
              "72     2014       GMC  ...        19300 2015-06-08 22:30:00+00:00\n",
              "...     ...       ...  ...          ...                       ...\n",
              "46463  2005  Chrysler  ...         2850 2015-01-13 18:00:00+00:00\n",
              "46480  2012    Toyota  ...        15400 2015-02-23 17:30:00+00:00\n",
              "46491  2012     Honda  ...        17000 2015-01-29 17:00:00+00:00\n",
              "46512  2001   Pontiac  ...         2000 2015-01-20 02:00:00+00:00\n",
              "46519  2014    Toyota  ...        21400 2015-06-02 20:15:00+00:00\n",
              "\n",
              "[2632 rows x 16 columns]"
            ]
          },
          "metadata": {},
          "execution_count": 15
        }
      ]
    },
    {
      "cell_type": "code",
      "metadata": {
        "id": "N_utjm2puwxI"
      },
      "source": [
        "# Reduce the ’body’ categories into a few main types: 'Sedan','Coupe', 'Convertible', 'Hatchback', 'SUV', 'Mini- van', 'Wagon' and 'Pickup Truck'\n",
        "bt=['Sedan','Coupe', 'Convertible', 'Hatchback', 'SUV', 'Mini- van', 'Wagon', 'Pickup Truck']\n",
        "for t in bt:\n",
        "  if(t=='Mini- van'):\n",
        "    df.loc[df['body'].str.contains('van'),'body']=t\n",
        "  elif (t=='Pickup Truck'):\n",
        "    df.loc[df['body'].str.contains('cab'),'body']=t\n",
        "    df.loc[df['body'].str.contains('supercrew'),'body']=t\n",
        "  elif (t=='Coupe'):\n",
        "    df.loc[df['body'].str.contains('oup'),'body']=t\n",
        "  else:\n",
        "    df.loc[df['body'].str.contains(t.lower()),'body']=t"
      ],
      "execution_count": null,
      "outputs": []
    },
    {
      "cell_type": "code",
      "metadata": {
        "id": "s377S-YNvveg"
      },
      "source": [
        "# changing type of column to categorical\n",
        "df['body'] = df['body'].astype('category')"
      ],
      "execution_count": null,
      "outputs": []
    },
    {
      "cell_type": "code",
      "metadata": {
        "colab": {
          "base_uri": "https://localhost:8080/"
        },
        "id": "yY7H2514hVSX",
        "outputId": "1379871c-2628-4195-c8e6-0eb95eb53cbd"
      },
      "source": [
        "# data inspection of unique values\n",
        "categorical_col = []\n",
        "for column in df.columns:\n",
        "    if df[column].dtype == object and len(df[column].unique()) <= 100:\n",
        "        categorical_col.append(column)\n",
        "        print(f\"{column} : {df[column].unique()}\")\n",
        "        print(\"====================================\")"
      ],
      "execution_count": null,
      "outputs": [
        {
          "output_type": "stream",
          "name": "stdout",
          "text": [
            "make : ['Hyundai' 'Toyota' 'Lexus' 'BMW' 'Ford' 'Kia' 'Chevrolet' 'Cadillac'\n",
            " 'Mercedes-Benz' 'Jeep' 'Infiniti' 'Lincoln' 'Mazda' 'Chrysler' 'GMC'\n",
            " 'Honda' 'Dodge' 'Audi' 'Nissan' 'Buick' 'MINI' 'Jaguar' 'Volvo'\n",
            " 'Mitsubishi' 'Volkswagen' 'Subaru' 'Porsche' 'Isuzu' 'Saturn' 'Pontiac'\n",
            " 'Scion' 'Acura' 'Ram' 'Land Rover' 'Suzuki' 'Mercury' 'HUMMER' 'Saab'\n",
            " 'Maserati' 'FIAT' 'Geo' 'smart' 'Oldsmobile' 'Fisker' 'Bentley'\n",
            " 'Plymouth' 'Ferrari' 'Aston Martin']\n",
            "====================================\n",
            "transmission : ['automatic' 'manual']\n",
            "====================================\n",
            "state : ['ma' 'fl' 'wa' 'co' 'ca' 'il' 'nv' 'mo' 'tx' 'ne' 'md' 'nj' 'la' 'ny'\n",
            " 'nc' 'ut' 'va' 'ga' 'tn' 'oh' 'ms' 'pa' 'or' 'mi' 'wi' 'az' 'pr' 'mn'\n",
            " 'in' 'hi' 'sc' 'ok' 'nm' 'al']\n",
            "====================================\n",
            "color : ['black' 'gray' 'silver' 'white' 'blue' 'burgundy' 'beige' 'gold' 'green'\n",
            " 'red' 'purple' nan 'yellow' 'brown' 'turquoise' 'orange' 'off-white'\n",
            " 'charcoal' 'pink' 'lime']\n",
            "====================================\n",
            "interior : ['gray' nan 'black' 'beige' 'tan' 'red' 'blue' 'brown' 'off-white'\n",
            " 'silver' 'orange' 'purple' 'white' 'gold' 'burgundy' 'green' 'yellow']\n",
            "====================================\n"
          ]
        }
      ]
    },
    {
      "cell_type": "code",
      "metadata": {
        "colab": {
          "base_uri": "https://localhost:8080/"
        },
        "id": "5HBwy67AYGyf",
        "outputId": "11a1f216-e7ce-48be-e4c6-80759d0c0681"
      },
      "source": [
        "# outlier/noise detection in selling price column\n",
        "df.sort_values('sellingprice', ascending = False)\n",
        "df.head()\n",
        "df.sellingprice.max()"
      ],
      "execution_count": null,
      "outputs": [
        {
          "output_type": "execute_result",
          "data": {
            "text/plain": [
              "230000"
            ]
          },
          "metadata": {},
          "execution_count": 19
        }
      ]
    },
    {
      "cell_type": "code",
      "metadata": {
        "colab": {
          "base_uri": "https://localhost:8080/",
          "height": 289
        },
        "id": "_1wceP4RZDNi",
        "outputId": "ee03800f-d83f-4692-b35b-4f595e8b017f"
      },
      "source": [
        "# outlier detection in selling price column, the entry number 18134 seems to be wrong\n",
        "# selling price seems to be abnormal/extreme\n",
        "df = df.sort_values('sellingprice', ascending = False)\n",
        "df.head()\n",
        "\n"
      ],
      "execution_count": null,
      "outputs": [
        {
          "output_type": "execute_result",
          "data": {
            "text/html": [
              "<div>\n",
              "<style scoped>\n",
              "    .dataframe tbody tr th:only-of-type {\n",
              "        vertical-align: middle;\n",
              "    }\n",
              "\n",
              "    .dataframe tbody tr th {\n",
              "        vertical-align: top;\n",
              "    }\n",
              "\n",
              "    .dataframe thead th {\n",
              "        text-align: right;\n",
              "    }\n",
              "</style>\n",
              "<table border=\"1\" class=\"dataframe\">\n",
              "  <thead>\n",
              "    <tr style=\"text-align: right;\">\n",
              "      <th></th>\n",
              "      <th>year</th>\n",
              "      <th>make</th>\n",
              "      <th>model</th>\n",
              "      <th>trim</th>\n",
              "      <th>body</th>\n",
              "      <th>transmission</th>\n",
              "      <th>vin</th>\n",
              "      <th>state</th>\n",
              "      <th>condition</th>\n",
              "      <th>odometer</th>\n",
              "      <th>color</th>\n",
              "      <th>interior</th>\n",
              "      <th>seller</th>\n",
              "      <th>mmr</th>\n",
              "      <th>sellingprice</th>\n",
              "      <th>saledate</th>\n",
              "    </tr>\n",
              "  </thead>\n",
              "  <tbody>\n",
              "    <tr>\n",
              "      <th>18134</th>\n",
              "      <td>2014</td>\n",
              "      <td>Ford</td>\n",
              "      <td>Escape</td>\n",
              "      <td>Titanium</td>\n",
              "      <td>SUV</td>\n",
              "      <td>automatic</td>\n",
              "      <td>1fmcu9j98eua23833</td>\n",
              "      <td>mo</td>\n",
              "      <td>4.3</td>\n",
              "      <td>27802.0</td>\n",
              "      <td>green</td>\n",
              "      <td>tan</td>\n",
              "      <td>ford-lincoln dealer program</td>\n",
              "      <td>22800</td>\n",
              "      <td>230000</td>\n",
              "      <td>2015-02-24 18:00:00+00:00</td>\n",
              "    </tr>\n",
              "    <tr>\n",
              "      <th>35140</th>\n",
              "      <td>2014</td>\n",
              "      <td>Porsche</td>\n",
              "      <td>911</td>\n",
              "      <td>Turbo</td>\n",
              "      <td>Coupe</td>\n",
              "      <td>automatic</td>\n",
              "      <td>wp0ad2a91es166878</td>\n",
              "      <td>fl</td>\n",
              "      <td>4.9</td>\n",
              "      <td>5993.0</td>\n",
              "      <td>white</td>\n",
              "      <td>black</td>\n",
              "      <td>flag/capital eurocars inc</td>\n",
              "      <td>146000</td>\n",
              "      <td>152000</td>\n",
              "      <td>2015-06-16 20:05:00+00:00</td>\n",
              "    </tr>\n",
              "    <tr>\n",
              "      <th>31657</th>\n",
              "      <td>2014</td>\n",
              "      <td>BMW</td>\n",
              "      <td>i8</td>\n",
              "      <td>Base</td>\n",
              "      <td>Coupe</td>\n",
              "      <td>automatic</td>\n",
              "      <td>wby2z2c56evx64302</td>\n",
              "      <td>ca</td>\n",
              "      <td>4.2</td>\n",
              "      <td>2668.0</td>\n",
              "      <td>white</td>\n",
              "      <td>brown</td>\n",
              "      <td>carbiz solutions, inc.</td>\n",
              "      <td>145000</td>\n",
              "      <td>143000</td>\n",
              "      <td>2015-06-17 22:00:00+00:00</td>\n",
              "    </tr>\n",
              "    <tr>\n",
              "      <th>25541</th>\n",
              "      <td>2013</td>\n",
              "      <td>Bentley</td>\n",
              "      <td>Continental GT</td>\n",
              "      <td>V8</td>\n",
              "      <td>Coupe</td>\n",
              "      <td>automatic</td>\n",
              "      <td>scbft7za3dc083274</td>\n",
              "      <td>ca</td>\n",
              "      <td>4.0</td>\n",
              "      <td>15859.0</td>\n",
              "      <td>blue</td>\n",
              "      <td>beige</td>\n",
              "      <td>porsche fin svcs dba bentley financial services</td>\n",
              "      <td>129000</td>\n",
              "      <td>131500</td>\n",
              "      <td>2015-02-11 20:30:00+00:00</td>\n",
              "    </tr>\n",
              "    <tr>\n",
              "      <th>3484</th>\n",
              "      <td>2012</td>\n",
              "      <td>Audi</td>\n",
              "      <td>R8</td>\n",
              "      <td>5.2 quattro</td>\n",
              "      <td>Coupe</td>\n",
              "      <td>automatic</td>\n",
              "      <td>wuaenafg0cn001127</td>\n",
              "      <td>ca</td>\n",
              "      <td>4.5</td>\n",
              "      <td>3885.0</td>\n",
              "      <td>NaN</td>\n",
              "      <td>black</td>\n",
              "      <td>volkswagen credit inc/sc</td>\n",
              "      <td>117000</td>\n",
              "      <td>120000</td>\n",
              "      <td>2015-01-14 20:30:00+00:00</td>\n",
              "    </tr>\n",
              "  </tbody>\n",
              "</table>\n",
              "</div>"
            ],
            "text/plain": [
              "       year     make  ... sellingprice                  saledate\n",
              "18134  2014     Ford  ...       230000 2015-02-24 18:00:00+00:00\n",
              "35140  2014  Porsche  ...       152000 2015-06-16 20:05:00+00:00\n",
              "31657  2014      BMW  ...       143000 2015-06-17 22:00:00+00:00\n",
              "25541  2013  Bentley  ...       131500 2015-02-11 20:30:00+00:00\n",
              "3484   2012     Audi  ...       120000 2015-01-14 20:30:00+00:00\n",
              "\n",
              "[5 rows x 16 columns]"
            ]
          },
          "metadata": {},
          "execution_count": 20
        }
      ]
    },
    {
      "cell_type": "code",
      "metadata": {
        "id": "bBDnp56JaiyA"
      },
      "source": [
        "# calculating mean of similar data of the error (same model, year and condition), for accurate representation\n",
        "sum_esc=df[(df['model'] == 'Escape') & (df['year']== 2014) & (df['condition']==4.3)]['sellingprice'].sum()-df['sellingprice'].max()\n",
        "count_esc=df[(df['model'] == 'Escape') & (df['year']== 2014) & (df['condition']==4.3)]['sellingprice'].count()-1\n",
        "mean_esc=sum_esc//count_esc"
      ],
      "execution_count": null,
      "outputs": []
    },
    {
      "cell_type": "code",
      "metadata": {
        "id": "baAAvugtcoZO"
      },
      "source": [
        "# replacing abnormal entring with calculated mean\n",
        "df.iloc[0,14] = mean_esc"
      ],
      "execution_count": null,
      "outputs": []
    },
    {
      "cell_type": "code",
      "metadata": {
        "colab": {
          "base_uri": "https://localhost:8080/",
          "height": 204
        },
        "id": "iqRB_7e4fad5",
        "outputId": "e462e63b-22b4-4684-9be5-9f7e0868bcd2"
      },
      "source": [
        "# inspecting possible abnormalities in odometer column, however, it seems possible/logical\n",
        "df = df.sort_values('odometer', ascending = False)\n",
        "df.head()"
      ],
      "execution_count": null,
      "outputs": [
        {
          "output_type": "execute_result",
          "data": {
            "text/html": [
              "<div>\n",
              "<style scoped>\n",
              "    .dataframe tbody tr th:only-of-type {\n",
              "        vertical-align: middle;\n",
              "    }\n",
              "\n",
              "    .dataframe tbody tr th {\n",
              "        vertical-align: top;\n",
              "    }\n",
              "\n",
              "    .dataframe thead th {\n",
              "        text-align: right;\n",
              "    }\n",
              "</style>\n",
              "<table border=\"1\" class=\"dataframe\">\n",
              "  <thead>\n",
              "    <tr style=\"text-align: right;\">\n",
              "      <th></th>\n",
              "      <th>year</th>\n",
              "      <th>make</th>\n",
              "      <th>model</th>\n",
              "      <th>trim</th>\n",
              "      <th>body</th>\n",
              "      <th>transmission</th>\n",
              "      <th>vin</th>\n",
              "      <th>state</th>\n",
              "      <th>condition</th>\n",
              "      <th>odometer</th>\n",
              "      <th>color</th>\n",
              "      <th>interior</th>\n",
              "      <th>seller</th>\n",
              "      <th>mmr</th>\n",
              "      <th>sellingprice</th>\n",
              "      <th>saledate</th>\n",
              "    </tr>\n",
              "  </thead>\n",
              "  <tbody>\n",
              "    <tr>\n",
              "      <th>19061</th>\n",
              "      <td>2010</td>\n",
              "      <td>Chevrolet</td>\n",
              "      <td>Cobalt</td>\n",
              "      <td>LT</td>\n",
              "      <td>Sedan</td>\n",
              "      <td>automatic</td>\n",
              "      <td>1g1af5f55a7180158</td>\n",
              "      <td>ny</td>\n",
              "      <td>1.0</td>\n",
              "      <td>999999.0</td>\n",
              "      <td>silver</td>\n",
              "      <td>black</td>\n",
              "      <td>santander consumer</td>\n",
              "      <td>2850</td>\n",
              "      <td>275</td>\n",
              "      <td>2014-12-31 01:00:00+00:00</td>\n",
              "    </tr>\n",
              "    <tr>\n",
              "      <th>686</th>\n",
              "      <td>2003</td>\n",
              "      <td>Ford</td>\n",
              "      <td>Expedition</td>\n",
              "      <td>XLT Value</td>\n",
              "      <td>SUV</td>\n",
              "      <td>automatic</td>\n",
              "      <td>1fmru15w03lc00745</td>\n",
              "      <td>ca</td>\n",
              "      <td>2.0</td>\n",
              "      <td>999999.0</td>\n",
              "      <td>white</td>\n",
              "      <td>gray</td>\n",
              "      <td>800 loan mart</td>\n",
              "      <td>700</td>\n",
              "      <td>900</td>\n",
              "      <td>2015-02-02 21:00:00+00:00</td>\n",
              "    </tr>\n",
              "    <tr>\n",
              "      <th>40912</th>\n",
              "      <td>2006</td>\n",
              "      <td>Mazda</td>\n",
              "      <td>Tribute</td>\n",
              "      <td>i</td>\n",
              "      <td>SUV</td>\n",
              "      <td>automatic</td>\n",
              "      <td>4f2yz02z26km30632</td>\n",
              "      <td>fl</td>\n",
              "      <td>2.0</td>\n",
              "      <td>999999.0</td>\n",
              "      <td>white</td>\n",
              "      <td>tan</td>\n",
              "      <td>santander consumer</td>\n",
              "      <td>1800</td>\n",
              "      <td>1200</td>\n",
              "      <td>2015-02-08 17:30:00+00:00</td>\n",
              "    </tr>\n",
              "    <tr>\n",
              "      <th>13150</th>\n",
              "      <td>2014</td>\n",
              "      <td>Kia</td>\n",
              "      <td>Forte</td>\n",
              "      <td>EX</td>\n",
              "      <td>Sedan</td>\n",
              "      <td>automatic</td>\n",
              "      <td>knafx4a8xe5052180</td>\n",
              "      <td>tx</td>\n",
              "      <td>1.0</td>\n",
              "      <td>999999.0</td>\n",
              "      <td>black</td>\n",
              "      <td>black</td>\n",
              "      <td>kia motors finance</td>\n",
              "      <td>11300</td>\n",
              "      <td>3100</td>\n",
              "      <td>2015-03-02 18:30:00+00:00</td>\n",
              "    </tr>\n",
              "    <tr>\n",
              "      <th>241</th>\n",
              "      <td>1998</td>\n",
              "      <td>Lexus</td>\n",
              "      <td>ES 300</td>\n",
              "      <td>Base</td>\n",
              "      <td>Sedan</td>\n",
              "      <td>automatic</td>\n",
              "      <td>jt8bf28g4w5037146</td>\n",
              "      <td>ca</td>\n",
              "      <td>2.0</td>\n",
              "      <td>999999.0</td>\n",
              "      <td>gray</td>\n",
              "      <td>beige</td>\n",
              "      <td>800 loan mart</td>\n",
              "      <td>650</td>\n",
              "      <td>350</td>\n",
              "      <td>2015-02-16 21:00:00+00:00</td>\n",
              "    </tr>\n",
              "  </tbody>\n",
              "</table>\n",
              "</div>"
            ],
            "text/plain": [
              "       year       make  ... sellingprice                  saledate\n",
              "19061  2010  Chevrolet  ...          275 2014-12-31 01:00:00+00:00\n",
              "686    2003       Ford  ...          900 2015-02-02 21:00:00+00:00\n",
              "40912  2006      Mazda  ...         1200 2015-02-08 17:30:00+00:00\n",
              "13150  2014        Kia  ...         3100 2015-03-02 18:30:00+00:00\n",
              "241    1998      Lexus  ...          350 2015-02-16 21:00:00+00:00\n",
              "\n",
              "[5 rows x 16 columns]"
            ]
          },
          "metadata": {},
          "execution_count": 23
        }
      ]
    },
    {
      "cell_type": "code",
      "metadata": {
        "id": "fa5ptQAkhjRn",
        "colab": {
          "base_uri": "https://localhost:8080/"
        },
        "outputId": "e746d118-4802-46f7-fd0e-e4bf41df76a7"
      },
      "source": [
        "# transmission to cat; changing type of transmission column to categorical (int), where 0 represents automatic cars, and 1 represents manual transmission\n",
        "# is the transmission manual?\n",
        "# \n",
        "df['transmission'] = df['transmission'].astype('category').cat.codes\n",
        "\n",
        "print(df['transmission'].value_counts())\n",
        "print(df['transmission'].value_counts() / df['transmission'].count())\n",
        "df.transmission.head(10)\n"
      ],
      "execution_count": null,
      "outputs": [
        {
          "output_type": "stream",
          "name": "stdout",
          "text": [
            "0    44928\n",
            "1     1650\n",
            "Name: transmission, dtype: int64\n",
            "0    0.964576\n",
            "1    0.035424\n",
            "Name: transmission, dtype: float64\n"
          ]
        },
        {
          "output_type": "execute_result",
          "data": {
            "text/plain": [
              "19061    0\n",
              "686      0\n",
              "40912    0\n",
              "13150    0\n",
              "241      0\n",
              "577      0\n",
              "43568    0\n",
              "45016    0\n",
              "24532    0\n",
              "17613    0\n",
              "Name: transmission, dtype: int8"
            ]
          },
          "metadata": {},
          "execution_count": 24
        }
      ]
    },
    {
      "cell_type": "code",
      "metadata": {
        "colab": {
          "base_uri": "https://localhost:8080/"
        },
        "id": "qk-ukVBShYiR",
        "outputId": "ab971d29-62de-4d23-a886-b8cfca377ab4"
      },
      "source": [
        "# object inspection of unique values\n",
        "categorical_col = []\n",
        "for column in df.columns:\n",
        "    if df[column].dtype == object and len(df[column].unique()) <= 100:\n",
        "        categorical_col.append(column)\n",
        "        print(f\"{column} : {df[column].unique()}\")\n",
        "        print(\"====================================\")"
      ],
      "execution_count": null,
      "outputs": [
        {
          "output_type": "stream",
          "name": "stdout",
          "text": [
            "make : ['Chevrolet' 'Ford' 'Mazda' 'Kia' 'Lexus' 'Dodge' 'Mercury' 'Honda'\n",
            " 'Toyota' 'Chrysler' 'GMC' 'Jeep' 'Mercedes-Benz' 'Hyundai' 'Nissan'\n",
            " 'Mitsubishi' 'Acura' 'Volvo' 'Buick' 'Pontiac' 'Isuzu' 'Saturn'\n",
            " 'Volkswagen' 'Infiniti' 'BMW' 'Geo' 'Subaru' 'Cadillac' 'Lincoln' 'Saab'\n",
            " 'HUMMER' 'Scion' 'Audi' 'Porsche' 'Oldsmobile' 'Suzuki' 'MINI' 'Ram'\n",
            " 'Jaguar' 'Land Rover' 'Plymouth' 'smart' 'Bentley' 'FIAT' 'Fisker'\n",
            " 'Maserati' 'Aston Martin' 'Ferrari']\n",
            "====================================\n",
            "state : ['ny' 'ca' 'fl' 'tx' 'mi' 'ga' 'va' 'wi' 'il' 'oh' 'nc' 'ma' 'mo' 'nj'\n",
            " 'md' 'tn' 'ms' 'co' 'mn' 'pa' 'la' 'nv' 'in' 'ok' 'sc' 'wa' 'az' 'ne'\n",
            " 'pr' 'ut' 'or' 'hi' 'nm' 'al']\n",
            "====================================\n",
            "color : ['silver' 'white' 'black' 'gray' 'orange' 'beige' nan 'yellow' 'green'\n",
            " 'blue' 'gold' 'red' 'purple' 'burgundy' 'brown' 'off-white' 'pink'\n",
            " 'charcoal' 'turquoise' 'lime']\n",
            "====================================\n",
            "interior : ['black' 'gray' 'tan' 'beige' 'blue' 'brown' nan 'burgundy' 'silver' 'red'\n",
            " 'purple' 'gold' 'green' 'white' 'orange' 'off-white' 'yellow']\n",
            "====================================\n"
          ]
        }
      ]
    },
    {
      "cell_type": "markdown",
      "metadata": {
        "id": "fq5ENXzHz3nK"
      },
      "source": [
        "## Exploratory Data Analysis\n"
      ]
    },
    {
      "cell_type": "markdown",
      "metadata": {
        "id": "9wJ7rvOEz3nL"
      },
      "source": [
        "**Q0 (example): What is the most popular car exterior color?**\n"
      ]
    },
    {
      "cell_type": "markdown",
      "metadata": {
        "id": "-txH_uqfz3nM"
      },
      "source": [
        "**Visualization**"
      ]
    },
    {
      "cell_type": "code",
      "metadata": {
        "id": "iWzgKB5gz3nN",
        "colab": {
          "base_uri": "https://localhost:8080/",
          "height": 296
        },
        "outputId": "254ed47d-333d-472d-e174-9c321c15e71d"
      },
      "source": [
        "# Basic, minimal plot example\n",
        "sns.countplot(x='color', data=df)"
      ],
      "execution_count": null,
      "outputs": [
        {
          "output_type": "execute_result",
          "data": {
            "text/plain": [
              "<matplotlib.axes._subplots.AxesSubplot at 0x7f85f5ca7d90>"
            ]
          },
          "metadata": {},
          "execution_count": 26
        },
        {
          "output_type": "display_data",
          "data": {
            "image/png": "[encoded data removed]",
            "text/plain": [
              "<Figure size 432x288 with 1 Axes>"
            ]
          },
          "metadata": {
            "needs_background": "light"
          }
        }
      ]
    },
    {
      "cell_type": "code",
      "metadata": {
        "id": "hwJIlbnZz3nN",
        "colab": {
          "base_uri": "https://localhost:8080/",
          "height": 297
        },
        "outputId": "9da7b1c4-03af-4255-fbf4-2948f25c30c0"
      },
      "source": [
        "# Much better plot, with sorting in descending order, rotated x-axis labels for clarity, and a plot title\n",
        "# Your visualizations should be neatly presented like the example below.\n",
        "large_to_small = df.groupby('color').size().sort_values(ascending=False)\n",
        "sns.countplot(x='color', data=df, order=large_to_small.index).set(title='Most popular colors sold on the used car auction market')\n",
        "plt.xticks(rotation=90)\n",
        "plt.tight_layout()"
      ],
      "execution_count": null,
      "outputs": [
        {
          "output_type": "display_data",
          "data": {
            "image/png": "[encoded data removed]",
            "text/plain": [
              "<Figure size 432x288 with 1 Axes>"
            ]
          },
          "metadata": {
            "needs_background": "light"
          }
        }
      ]
    },
    {
      "cell_type": "markdown",
      "metadata": {
        "id": "41YA1Aawz3nO"
      },
      "source": [
        "**Example note:** _you need to answer using a visualization (above) and a written/text answer (below)._\n",
        "\n",
        "**Answer for Q0**: Black is the most popular exterior color of used cars sold in auctions, followed very closely by white."
      ]
    },
    {
      "cell_type": "markdown",
      "metadata": {
        "id": "vaQs9Zhnz3nO"
      },
      "source": [
        "**Q1: What are the most popular car brands? (mention at least 3)**\n"
      ]
    },
    {
      "cell_type": "markdown",
      "metadata": {
        "id": "L_FbhRY5z3nP"
      },
      "source": [
        "**Visualization**"
      ]
    },
    {
      "cell_type": "code",
      "metadata": {
        "id": "mSTchqvMz3nP",
        "colab": {
          "base_uri": "https://localhost:8080/"
        },
        "outputId": "ffa33b80-cb18-464f-9123-6b467e8f8fb4"
      },
      "source": [
        "# counting number of occurance of each car maker in dataset\n",
        "top_makers = df.make.value_counts()\n",
        "print(top_makers)"
      ],
      "execution_count": null,
      "outputs": [
        {
          "output_type": "stream",
          "name": "stdout",
          "text": [
            "Ford             7871\n",
            "Chevrolet        5322\n",
            "Nissan           4297\n",
            "Toyota           3474\n",
            "Dodge            2718\n",
            "Honda            2403\n",
            "Hyundai          1801\n",
            "BMW              1680\n",
            "Kia              1639\n",
            "Chrysler         1566\n",
            "Infiniti         1442\n",
            "Mercedes-Benz    1375\n",
            "Jeep             1305\n",
            "Volkswagen       1038\n",
            "Lexus            1024\n",
            "GMC               901\n",
            "Mazda             701\n",
            "Cadillac          606\n",
            "Audi              485\n",
            "Acura             476\n",
            "Buick             467\n",
            "Lincoln           457\n",
            "Subaru            444\n",
            "Ram               397\n",
            "Pontiac           377\n",
            "Mitsubishi        370\n",
            "MINI              289\n",
            "Saturn            286\n",
            "Volvo             281\n",
            "Scion             159\n",
            "Mercury           148\n",
            "Land Rover        143\n",
            "Porsche           129\n",
            "Jaguar            122\n",
            "Suzuki             96\n",
            "HUMMER             84\n",
            "FIAT               56\n",
            "Saab               41\n",
            "smart              36\n",
            "Oldsmobile         24\n",
            "Isuzu              19\n",
            "Maserati           10\n",
            "Bentley             8\n",
            "Plymouth            3\n",
            "Fisker              3\n",
            "Geo                 2\n",
            "Aston Martin        2\n",
            "Ferrari             1\n",
            "Name: make, dtype: int64\n"
          ]
        }
      ]
    },
    {
      "cell_type": "code",
      "metadata": {
        "id": "MCwo2IM5eq_0",
        "colab": {
          "base_uri": "https://localhost:8080/",
          "height": 605
        },
        "outputId": "6c74ff6b-be03-4478-b5ac-c57fa948b4da"
      },
      "source": [
        "# count plot sorted in descending order, rotated x-axis labels for clarity, and a plot title\n",
        "large_to_small = df.groupby('make').size().sort_values(ascending=False)\n",
        "a4_dims = (11.7, 8.27)\n",
        "fig, ax = plt.subplots(figsize=a4_dims)\n",
        "sns.countplot(ax=ax,x='make', data=df, order=large_to_small.index).set(title='Most popular brands sold on the used car auction market')\n",
        "plt.xticks(rotation=90)\n",
        "plt.tight_layout()"
      ],
      "execution_count": null,
      "outputs": [
        {
          "output_type": "display_data",
          "data": {
            "image/png": "[encoded data removed]",
            "text/plain": [
              "<Figure size 842.4x595.44 with 1 Axes>"
            ]
          },
          "metadata": {
            "needs_background": "light"
          }
        }
      ]
    },
    {
      "cell_type": "markdown",
      "metadata": {
        "id": "tVXDXBJLz3nP"
      },
      "source": [
        "**Answer for Q1**: The most popular car brands are Ford in the first place, then Chevrolet second, then Nissan third."
      ]
    },
    {
      "cell_type": "markdown",
      "metadata": {
        "id": "vl9jJ1jwz3nQ"
      },
      "source": [
        "**Q2: Do automatic cars, on average, sell for a higher price than manual cars?**\n"
      ]
    },
    {
      "cell_type": "markdown",
      "metadata": {
        "id": "WUEwYWC3z3nQ"
      },
      "source": [
        "**Visualization**"
      ]
    },
    {
      "cell_type": "code",
      "metadata": {
        "id": "vtt0eHqQz3nQ",
        "colab": {
          "base_uri": "https://localhost:8080/",
          "height": 653
        },
        "outputId": "28a751f9-dd84-41a0-ac39-0b729a6bf867"
      },
      "source": [
        "# describing data of automatic transmission car and manual transmission cars, to inspect differences\n",
        "# visualized in a boxplot\n",
        "automatic = df[df['transmission'] == 0]\n",
        "manual = df[df['transmission'] == 1]\n",
        "\n",
        "print(automatic.describe())\n",
        "print(manual.describe())\n",
        "manual.describe()\n",
        "sns.boxplot(x = 'transmission', y = 'sellingprice', data = df)\n",
        "plt.show()"
      ],
      "execution_count": null,
      "outputs": [
        {
          "output_type": "stream",
          "name": "stdout",
          "text": [
            "               year  transmission  ...            mmr   sellingprice\n",
            "count  44928.000000       44928.0  ...   44928.000000   44928.000000\n",
            "mean    2010.268786           0.0  ...   13892.634326   13756.387197\n",
            "std        3.791140           0.0  ...    9492.157830    9558.578010\n",
            "min     1990.000000           0.0  ...      25.000000     150.000000\n",
            "25%     2008.000000           0.0  ...    7525.000000    7300.000000\n",
            "50%     2012.000000           0.0  ...   12400.000000   12300.000000\n",
            "75%     2013.000000           0.0  ...   18300.000000   18200.000000\n",
            "max     2015.000000           0.0  ...  146000.000000  152000.000000\n",
            "\n",
            "[8 rows x 6 columns]\n",
            "              year  transmission  ...           mmr  sellingprice\n",
            "count  1650.000000        1650.0  ...   1650.000000   1650.000000\n",
            "mean   2008.423030           1.0  ...  11576.318182  11181.775758\n",
            "std       4.443345           0.0  ...   9733.052172   9828.602381\n",
            "min    1990.000000           1.0  ...    175.000000    225.000000\n",
            "25%    2006.000000           1.0  ...   4281.250000   3800.000000\n",
            "50%    2009.000000           1.0  ...   9475.000000   9000.000000\n",
            "75%    2012.000000           1.0  ...  15950.000000  15600.000000\n",
            "max    2015.000000           1.0  ...  85000.000000  84500.000000\n",
            "\n",
            "[8 rows x 6 columns]\n"
          ]
        },
        {
          "output_type": "display_data",
          "data": {
            "image/png": "[encoded data removed]",
            "text/plain": [
              "<Figure size 432x288 with 1 Axes>"
            ]
          },
          "metadata": {
            "needs_background": "light"
          }
        }
      ]
    },
    {
      "cell_type": "code",
      "metadata": {
        "id": "aI6VwjudV9NM",
        "colab": {
          "base_uri": "https://localhost:8080/",
          "height": 403
        },
        "outputId": "02551779-aade-443b-8617-790afcf8fa27"
      },
      "source": [
        "#box plot and violin plot of transmission and selling price\n",
        "f = plt.figure(figsize=(14,6))\n",
        "ax = f.add_subplot(121) # 121 is equivalent to writing: nrows=1, ncols=2, index=1\n",
        "sns.boxplot(x='transmission', y='sellingprice', data=df, palette='Wistia', ax=ax)\n",
        "ax.set_title('box plot of transmission and selling price')\n",
        "\n",
        "ax = f.add_subplot(122)\n",
        "sns.violinplot(x='transmission', y='sellingprice', data=df, palette='magma', ax=ax)\n",
        "ax.set_title('violin plot of transmission and selling price');"
      ],
      "execution_count": null,
      "outputs": [
        {
          "output_type": "display_data",
          "data": {
            "image/png": "[encoded data removed]",
            "text/plain": [
              "<Figure size 1008x432 with 2 Axes>"
            ]
          },
          "metadata": {
            "needs_background": "light"
          }
        }
      ]
    },
    {
      "cell_type": "code",
      "metadata": {
        "colab": {
          "base_uri": "https://localhost:8080/",
          "height": 403
        },
        "id": "nLv74yHOalBl",
        "outputId": "6dc85b69-b5da-4b48-d4e8-cd488afbb235"
      },
      "source": [
        "# point plot for visualizing differences\n",
        "f = plt.figure(figsize=(14,6))\n",
        "ax = f.add_subplot(111)\n",
        "sns.pointplot(x = 'transmission', y = 'sellingprice', data = df, ax = ax).set(title='Pint plot of car transmission and selling price')\n",
        "labels = ['Automatic', 'Manual']\n",
        "ax.set_xticklabels(labels)\n",
        "plt.show()"
      ],
      "execution_count": null,
      "outputs": [
        {
          "output_type": "display_data",
          "data": {
            "image/png": "[encoded data removed]",
            "text/plain": [
              "<Figure size 1008x432 with 1 Axes>"
            ]
          },
          "metadata": {
            "needs_background": "light"
          }
        }
      ]
    },
    {
      "cell_type": "markdown",
      "metadata": {
        "id": "DRILnT_Qz3nR"
      },
      "source": [
        "**Answer for Q2**: Using a point plot to represent the mean as the only point, automatic cars sell on average at a higher price than manual."
      ]
    },
    {
      "cell_type": "markdown",
      "metadata": {
        "id": "U-M9-itHz3nR"
      },
      "source": [
        "**Q3: Draw a box plot showing the distribution of the selling prices of each car make. Which car makes have the widest distribution of selling price (name two)? Which are the most expensive (name two)?**\n"
      ]
    },
    {
      "cell_type": "markdown",
      "metadata": {
        "id": "xBfR8kQDz3nR"
      },
      "source": [
        "**Visualization**"
      ]
    },
    {
      "cell_type": "code",
      "metadata": {
        "id": "M-9FvMVcpV1A"
      },
      "source": [
        "# defining IQR method to calculate IQR\n",
        "def IQR(data, col):\n",
        "  Q3 = np.quantile(data[col], 0.75)\n",
        "  Q1 = np.quantile(data[col], 0.25)\n",
        "  return Q3-Q1\n",
        "\n"
      ],
      "execution_count": null,
      "outputs": []
    },
    {
      "cell_type": "code",
      "metadata": {
        "id": "325J4y6Bz3nS",
        "colab": {
          "base_uri": "https://localhost:8080/",
          "height": 670
        },
        "outputId": "31aa1c54-879a-43e2-d0d3-3fc6410ea996"
      },
      "source": [
        "# ploting boxplot of selling price and make sorted by median\n",
        "ordered = df.groupby(\"make\")[\"sellingprice\"].median().iloc[::-1].sort_values(ascending=False).index\n",
        "a4_dims = (30.7, 9.27)\n",
        "fig, ax = plt.subplots(figsize=a4_dims)\n",
        "sns.boxplot(ax=ax,x = 'make', y = 'sellingprice',data=df, order = ordered)\n",
        "plt.xticks(rotation=90)\n",
        "plt.tight_layout()\n",
        "plt.show()\n",
        "ordered"
      ],
      "execution_count": null,
      "outputs": [
        {
          "output_type": "display_data",
          "data": {
            "image/png": "[encoded data removed]",
            "text/plain": [
              "<Figure size 2210.4x667.44 with 1 Axes>"
            ]
          },
          "metadata": {
            "needs_background": "light"
          }
        },
        {
          "output_type": "execute_result",
          "data": {
            "text/plain": [
              "Index(['Ferrari', 'Bentley', 'Aston Martin', 'Maserati', 'Fisker', 'Porsche',\n",
              "       'Land Rover', 'Ram', 'Lexus', 'Infiniti', 'Mercedes-Benz', 'BMW',\n",
              "       'Plymouth', 'Lincoln', 'Audi', 'Subaru', 'GMC', 'Ford', 'Acura', 'Jeep',\n",
              "       'Jaguar', 'MINI', 'Cadillac', 'HUMMER', 'Toyota', 'Kia', 'Nissan',\n",
              "       'Hyundai', 'Honda', 'Dodge', 'Chevrolet', 'Volkswagen', 'Mazda',\n",
              "       'Chrysler', 'Scion', 'Buick', 'FIAT', 'Volvo', 'Mitsubishi', 'smart',\n",
              "       'Suzuki', 'Mercury', 'Saab', 'Pontiac', 'Saturn', 'Isuzu', 'Oldsmobile',\n",
              "       'Geo'],\n",
              "      dtype='object', name='make')"
            ]
          },
          "metadata": {},
          "execution_count": 34
        }
      ]
    },
    {
      "cell_type": "code",
      "metadata": {
        "colab": {
          "base_uri": "https://localhost:8080/"
        },
        "id": "YSsXwxvL_KO9",
        "outputId": "47d739bc-b74b-4bcb-e9ad-a9a6cd024419"
      },
      "source": [
        "# calculating the IQR using the above implementeed method to determine distribution\n",
        "# these 4 makers are selected after visualising the boxplot and selecting the longest bars\n",
        "dfb=df[df[\"make\"]==\"Bentley\"]\n",
        "dfm=df[df[\"make\"]==\"Maserati\"]\n",
        "dfp=df[df[\"make\"]==\"Porsche\"]\n",
        "dfj=df[df[\"make\"]==\"Jaguar\"]\n",
        "print('bentley: ', IQR(dfb,\"sellingprice\"))\n",
        "print('maserati: ', IQR(dfm,\"sellingprice\"))\n",
        "print('porsche: ', IQR(dfp,\"sellingprice\"))\n",
        "print('jaguar: ', IQR(dfj,\"sellingprice\"))"
      ],
      "execution_count": null,
      "outputs": [
        {
          "output_type": "stream",
          "name": "stdout",
          "text": [
            "bentley:  26487.5\n",
            "maserati:  31875.0\n",
            "porsche:  39800.0\n",
            "jaguar:  31325.0\n"
          ]
        }
      ]
    },
    {
      "cell_type": "markdown",
      "metadata": {
        "id": "EPLWopszz3nS"
      },
      "source": [
        "**Answer for Q3**: using the interquartile range to determine the widest distribution of selling price, Porsche has the widest distribution and Maserati second. By sorting boxplot by median, Ferrari is the most expensive and Bentley second."
      ]
    },
    {
      "cell_type": "code",
      "metadata": {
        "id": "cdMrB0ab7GKV"
      },
      "source": [
        ""
      ],
      "execution_count": null,
      "outputs": []
    },
    {
      "cell_type": "markdown",
      "metadata": {
        "id": "Q_ajiIXOz3nS"
      },
      "source": [
        "**Q4: How correlated is the odometer reading or mileage with the car's sale price? (Hint: plot a line of best fit.)**"
      ]
    },
    {
      "cell_type": "markdown",
      "metadata": {
        "id": "DDbaIh5Nz3nS"
      },
      "source": [
        "**Visualization**"
      ]
    },
    {
      "cell_type": "code",
      "metadata": {
        "colab": {
          "base_uri": "https://localhost:8080/"
        },
        "id": "oK-S2_aed__1",
        "outputId": "73b99ce9-eef7-45b9-9c86-93b04a53ebf4"
      },
      "source": [
        "np.corrcoef(df[\"odometer\"],df[\"sellingprice\"])"
      ],
      "execution_count": null,
      "outputs": [
        {
          "output_type": "execute_result",
          "data": {
            "text/plain": [
              "array([[ 1.        , -0.58371354],\n",
              "       [-0.58371354,  1.        ]])"
            ]
          },
          "metadata": {},
          "execution_count": 37
        }
      ]
    },
    {
      "cell_type": "code",
      "metadata": {
        "colab": {
          "base_uri": "https://localhost:8080/",
          "height": 279
        },
        "id": "bFz6KtMFfEL_",
        "outputId": "9ba03dba-d0b6-43c5-b814-14fb8b4876d1"
      },
      "source": [
        "sns.scatterplot(x = 'odometer', y = 'sellingprice', data = df)\n",
        "plt.show()\n",
        "\n",
        "# sns.lmplot(x='odometer', y='sellingprice', data=df, palette='viridis', height=8);\n",
        "# plt.show()"
      ],
      "execution_count": null,
      "outputs": [
        {
          "output_type": "display_data",
          "data": {
            "image/png": "[encoded data removed]",
            "text/plain": [
              "<Figure size 432x288 with 1 Axes>"
            ]
          },
          "metadata": {
            "needs_background": "light"
          }
        }
      ]
    },
    {
      "cell_type": "code",
      "metadata": {
        "id": "q7YIFKsiz3nT",
        "colab": {
          "base_uri": "https://localhost:8080/",
          "height": 313
        },
        "outputId": "a81d1aab-0fd0-456e-83f3-227d8e873579"
      },
      "source": [
        "# regression plot to display line of best fit\n",
        "print(np.corrcoef(df[\"odometer\"],df[\"sellingprice\"]))\n",
        "sns.regplot(x = 'odometer', y = 'sellingprice', data = df)\n",
        "plt.show()"
      ],
      "execution_count": null,
      "outputs": [
        {
          "output_type": "stream",
          "name": "stdout",
          "text": [
            "[[ 1.         -0.58371354]\n",
            " [-0.58371354  1.        ]]\n"
          ]
        },
        {
          "output_type": "display_data",
          "data": {
            "image/png": "[encoded data removed]",
            "text/plain": [
              "<Figure size 432x288 with 1 Axes>"
            ]
          },
          "metadata": {
            "needs_background": "light"
          }
        }
      ]
    },
    {
      "cell_type": "markdown",
      "metadata": {
        "id": "zfD0s7jEz3nT"
      },
      "source": [
        "**Answer for Q4**: as indicated by the best fit line, odometer reading is negatively correlated with car's selling price"
      ]
    },
    {
      "cell_type": "markdown",
      "metadata": {
        "id": "reLrvYu8z3nT"
      },
      "source": [
        "**Q5: Likewise, how correlated is the car's condition with its sale price? (Hint: plot a line of best fit.)**"
      ]
    },
    {
      "cell_type": "markdown",
      "metadata": {
        "id": "zs3F5cK6z3nT"
      },
      "source": [
        "**Visualization**"
      ]
    },
    {
      "cell_type": "code",
      "metadata": {
        "colab": {
          "base_uri": "https://localhost:8080/"
        },
        "id": "aPHKWabAengJ",
        "outputId": "7864e432-f1c0-490f-a7ea-ce3ced47470b"
      },
      "source": [
        "# displaying correlation matrix of condition and selling price\n",
        "np.corrcoef(df[\"condition\"],df[\"sellingprice\"])"
      ],
      "execution_count": null,
      "outputs": [
        {
          "output_type": "execute_result",
          "data": {
            "text/plain": [
              "array([[1.        , 0.53158978],\n",
              "       [0.53158978, 1.        ]])"
            ]
          },
          "metadata": {},
          "execution_count": 40
        }
      ]
    },
    {
      "cell_type": "code",
      "metadata": {
        "colab": {
          "base_uri": "https://localhost:8080/",
          "height": 279
        },
        "id": "c2QbeoMDfJ_O",
        "outputId": "904a5338-cecf-44a6-8181-2edd9724f731"
      },
      "source": [
        "# scatter plot to visualize correlation\n",
        "sns.scatterplot(x = 'condition', y = 'sellingprice', data = df)\n",
        "plt.show()"
      ],
      "execution_count": null,
      "outputs": [
        {
          "output_type": "display_data",
          "data": {
            "image/png": "[encoded data removed]",
            "text/plain": [
              "<Figure size 432x288 with 1 Axes>"
            ]
          },
          "metadata": {
            "needs_background": "light"
          }
        }
      ]
    },
    {
      "cell_type": "code",
      "metadata": {
        "id": "tK-WQiXNz3nU",
        "colab": {
          "base_uri": "https://localhost:8080/",
          "height": 279
        },
        "outputId": "95242a42-8b42-4e2e-d1e4-a88ec0aa7ea1"
      },
      "source": [
        "# line of best on scatter plot\n",
        "sns.regplot(x = 'condition', y = 'sellingprice', data = df)\n",
        "plt.show()"
      ],
      "execution_count": null,
      "outputs": [
        {
          "output_type": "display_data",
          "data": {
            "image/png": "[encoded data removed]",
            "text/plain": [
              "<Figure size 432x288 with 1 Axes>"
            ]
          },
          "metadata": {
            "needs_background": "light"
          }
        }
      ]
    },
    {
      "cell_type": "markdown",
      "metadata": {
        "id": "-Pf9L1zVz3nU"
      },
      "source": [
        "**Answer for Q5**: line of best fit indicated  healthy positive correlation between the two variables"
      ]
    },
    {
      "cell_type": "markdown",
      "metadata": {
        "id": "2hby7jrqz3nU"
      },
      "source": [
        "**Q6: Are there differences in the average car price due to the car's body type? If so, rank their order and state the most expensive and least expensive car body type.**"
      ]
    },
    {
      "cell_type": "markdown",
      "metadata": {
        "id": "aZvZgwndz3nV"
      },
      "source": [
        "**Visualization**"
      ]
    },
    {
      "cell_type": "code",
      "metadata": {
        "id": "J9ppkLU4z3nV",
        "colab": {
          "base_uri": "https://localhost:8080/",
          "height": 687
        },
        "outputId": "9127e9bf-37d3-4d56-8d4e-69901b4997eb"
      },
      "source": [
        "# pointplot to viaualize differences in the average car price due to the car's body type\n",
        "dff=df\n",
        "dff=dff.groupby('body')['sellingprice'].mean().sort_values(ascending=False)\n",
        "print(dff)\n",
        "a4_dims = (30.7, 9.27)\n",
        "fig, ax = plt.subplots(figsize=a4_dims)\n",
        "sns.pointplot(ax=ax, x=dff.index,y=dff.values, order=dff.index)\n",
        "plt.xticks(rotation=90)\n",
        "plt.tight_layout()\n",
        "plt.show()"
      ],
      "execution_count": null,
      "outputs": [
        {
          "output_type": "stream",
          "name": "stdout",
          "text": [
            "body\n",
            "Pickup Truck    17981.766407\n",
            "Convertible     17581.563278\n",
            "Coupe           16538.921097\n",
            "SUV             16204.294236\n",
            "Mini- van       11981.053571\n",
            "Sedan           11861.795912\n",
            "Hatchback       10320.636123\n",
            "Wagon            9872.678720\n",
            "Name: sellingprice, dtype: float64\n"
          ]
        },
        {
          "output_type": "display_data",
          "data": {
            "image/png": "[encoded data removed]",
            "text/plain": [
              "<Figure size 2210.4x667.44 with 1 Axes>"
            ]
          },
          "metadata": {
            "needs_background": "light"
          }
        }
      ]
    },
    {
      "cell_type": "markdown",
      "metadata": {
        "id": "SLET_tYUz3nV"
      },
      "source": [
        "**Answer for Q6**: yes there are differences in the average car price due to the car's body type.\n",
        "Ranking: pick up, convertible, coupe, suv, mini van, sedan, hatchback, wagon.\n",
        "Most expensive car body type is pick up truck.\n",
        "Least expensive car body type is wagon"
      ]
    },
    {
      "cell_type": "markdown",
      "metadata": {
        "id": "kneVKiXdz3nW"
      },
      "source": [
        "## Data Preparation for Modelling\n",
        "\n",
        "_Apply any additional data preparation steps needed before modelling below. Show/output the changes to the dataset._"
      ]
    },
    {
      "cell_type": "code",
      "metadata": {
        "id": "ncTlpdQjz3nW",
        "colab": {
          "base_uri": "https://localhost:8080/",
          "height": 315
        },
        "outputId": "f6c6e762-dee1-426a-fc06-389f2cc134f1"
      },
      "source": [
        "# heatmap to visualize correlation between numerical attributes\n",
        "sns.heatmap(df.corr(), annot=True, cmap='Reds');"
      ],
      "execution_count": null,
      "outputs": [
        {
          "output_type": "display_data",
          "data": {
            "image/png": "[encoded data removed]",
            "text/plain": [
              "<Figure size 432x288 with 2 Axes>"
            ]
          },
          "metadata": {
            "needs_background": "light"
          }
        }
      ]
    },
    {
      "cell_type": "code",
      "metadata": {
        "colab": {
          "base_uri": "https://localhost:8080/",
          "height": 1000
        },
        "id": "Tj6Qe8xf5wmF",
        "outputId": "31292c23-e928-4a88-d01e-36a9ff69e9ca"
      },
      "source": [
        "# using label enoding to transform the non-numerics into numerical form so that the algorithms can understand how to operate on them. \n",
        "# Essentially, each category is mapped to an integer value.\n",
        "from sklearn.preprocessing import LabelEncoder\n",
        "\n",
        "df_encoded = df.copy()\n",
        "cc=[\"body\",\"make\",\"state\"]\n",
        "\n",
        "# # label encode 'model' feature\n",
        "# model = LabelEncoder()\n",
        "# df_encoded['model'] = model.fit_transform(df['model'])\n",
        "\n",
        "# # label encode 'trim' feature\n",
        "# trim = LabelEncoder()\n",
        "# df_encoded['trim'] = trim.fit_transform(df['trim'])\n",
        "\n",
        "# # label encode 'make' feature\n",
        "# make = LabelEncoder()\n",
        "# df_encoded['make'] = make.fit_transform(df['make'])\n",
        "\n",
        "# # label encode 'body' feature\n",
        "# body = LabelEncoder()\n",
        "# df_encoded['body'] = body.fit_transform(df['body'])\n",
        "# # label encode 'color' feature\n",
        "# color = LabelEncoder()\n",
        "# df_encoded['color'] = color.fit_transform(df['color'])\n",
        "\n",
        "# # label encode 'interior' feature\n",
        "# interior = LabelEncoder()\n",
        "# df_encoded['interior'] = interior.fit_transform(df['interior'])\n",
        "\n",
        "# # label encode 'state' feature\n",
        "# state = LabelEncoder()\n",
        "# df_encoded['state'] = state.fit_transform(df['state'])\n",
        "#label encode 'saledate' feature\n",
        "df_encode = pd.get_dummies(data=df,\n",
        "                           columns=cc,\n",
        "                           drop_first=True,\n",
        "                           dtype='int8')\n",
        "\n",
        "# heatmap to visualize all attributes\n",
        "a4_dims = (30.7, 9.27)\n",
        "fig, ax = plt.subplots(figsize=a4_dims)\n",
        "sns.heatmap(df_encoded.corr(), annot=True, cmap='Reds',ax=ax);\n",
        "#df_encode.head()\n",
        "df_encode.info()"
      ],
      "execution_count": null,
      "outputs": [
        {
          "output_type": "stream",
          "name": "stdout",
          "text": [
            "<class 'pandas.core.frame.DataFrame'>\n",
            "Int64Index: 46578 entries, 19061 to 27067\n",
            "Data columns (total 100 columns):\n",
            " #   Column              Non-Null Count  Dtype              \n",
            "---  ------              --------------  -----              \n",
            " 0   year                46578 non-null  int64              \n",
            " 1   model               46578 non-null  object             \n",
            " 2   trim                46578 non-null  object             \n",
            " 3   transmission        46578 non-null  int8               \n",
            " 4   vin                 46578 non-null  object             \n",
            " 5   condition           46578 non-null  float64            \n",
            " 6   odometer            46578 non-null  float64            \n",
            " 7   color               44332 non-null  object             \n",
            " 8   interior            45590 non-null  object             \n",
            " 9   seller              46578 non-null  object             \n",
            " 10  mmr                 46578 non-null  int64              \n",
            " 11  sellingprice        46578 non-null  int64              \n",
            " 12  saledate            46578 non-null  datetime64[ns, UTC]\n",
            " 13  body_Coupe          46578 non-null  int8               \n",
            " 14  body_Hatchback      46578 non-null  int8               \n",
            " 15  body_Mini- van      46578 non-null  int8               \n",
            " 16  body_Pickup Truck   46578 non-null  int8               \n",
            " 17  body_SUV            46578 non-null  int8               \n",
            " 18  body_Sedan          46578 non-null  int8               \n",
            " 19  body_Wagon          46578 non-null  int8               \n",
            " 20  make_Aston Martin   46578 non-null  int8               \n",
            " 21  make_Audi           46578 non-null  int8               \n",
            " 22  make_BMW            46578 non-null  int8               \n",
            " 23  make_Bentley        46578 non-null  int8               \n",
            " 24  make_Buick          46578 non-null  int8               \n",
            " 25  make_Cadillac       46578 non-null  int8               \n",
            " 26  make_Chevrolet      46578 non-null  int8               \n",
            " 27  make_Chrysler       46578 non-null  int8               \n",
            " 28  make_Dodge          46578 non-null  int8               \n",
            " 29  make_FIAT           46578 non-null  int8               \n",
            " 30  make_Ferrari        46578 non-null  int8               \n",
            " 31  make_Fisker         46578 non-null  int8               \n",
            " 32  make_Ford           46578 non-null  int8               \n",
            " 33  make_GMC            46578 non-null  int8               \n",
            " 34  make_Geo            46578 non-null  int8               \n",
            " 35  make_HUMMER         46578 non-null  int8               \n",
            " 36  make_Honda          46578 non-null  int8               \n",
            " 37  make_Hyundai        46578 non-null  int8               \n",
            " 38  make_Infiniti       46578 non-null  int8               \n",
            " 39  make_Isuzu          46578 non-null  int8               \n",
            " 40  make_Jaguar         46578 non-null  int8               \n",
            " 41  make_Jeep           46578 non-null  int8               \n",
            " 42  make_Kia            46578 non-null  int8               \n",
            " 43  make_Land Rover     46578 non-null  int8               \n",
            " 44  make_Lexus          46578 non-null  int8               \n",
            " 45  make_Lincoln        46578 non-null  int8               \n",
            " 46  make_MINI           46578 non-null  int8               \n",
            " 47  make_Maserati       46578 non-null  int8               \n",
            " 48  make_Mazda          46578 non-null  int8               \n",
            " 49  make_Mercedes-Benz  46578 non-null  int8               \n",
            " 50  make_Mercury        46578 non-null  int8               \n",
            " 51  make_Mitsubishi     46578 non-null  int8               \n",
            " 52  make_Nissan         46578 non-null  int8               \n",
            " 53  make_Oldsmobile     46578 non-null  int8               \n",
            " 54  make_Plymouth       46578 non-null  int8               \n",
            " 55  make_Pontiac        46578 non-null  int8               \n",
            " 56  make_Porsche        46578 non-null  int8               \n",
            " 57  make_Ram            46578 non-null  int8               \n",
            " 58  make_Saab           46578 non-null  int8               \n",
            " 59  make_Saturn         46578 non-null  int8               \n",
            " 60  make_Scion          46578 non-null  int8               \n",
            " 61  make_Subaru         46578 non-null  int8               \n",
            " 62  make_Suzuki         46578 non-null  int8               \n",
            " 63  make_Toyota         46578 non-null  int8               \n",
            " 64  make_Volkswagen     46578 non-null  int8               \n",
            " 65  make_Volvo          46578 non-null  int8               \n",
            " 66  make_smart          46578 non-null  int8               \n",
            " 67  state_az            46578 non-null  int8               \n",
            " 68  state_ca            46578 non-null  int8               \n",
            " 69  state_co            46578 non-null  int8               \n",
            " 70  state_fl            46578 non-null  int8               \n",
            " 71  state_ga            46578 non-null  int8               \n",
            " 72  state_hi            46578 non-null  int8               \n",
            " 73  state_il            46578 non-null  int8               \n",
            " 74  state_in            46578 non-null  int8               \n",
            " 75  state_la            46578 non-null  int8               \n",
            " 76  state_ma            46578 non-null  int8               \n",
            " 77  state_md            46578 non-null  int8               \n",
            " 78  state_mi            46578 non-null  int8               \n",
            " 79  state_mn            46578 non-null  int8               \n",
            " 80  state_mo            46578 non-null  int8               \n",
            " 81  state_ms            46578 non-null  int8               \n",
            " 82  state_nc            46578 non-null  int8               \n",
            " 83  state_ne            46578 non-null  int8               \n",
            " 84  state_nj            46578 non-null  int8               \n",
            " 85  state_nm            46578 non-null  int8               \n",
            " 86  state_nv            46578 non-null  int8               \n",
            " 87  state_ny            46578 non-null  int8               \n",
            " 88  state_oh            46578 non-null  int8               \n",
            " 89  state_ok            46578 non-null  int8               \n",
            " 90  state_or            46578 non-null  int8               \n",
            " 91  state_pa            46578 non-null  int8               \n",
            " 92  state_pr            46578 non-null  int8               \n",
            " 93  state_sc            46578 non-null  int8               \n",
            " 94  state_tn            46578 non-null  int8               \n",
            " 95  state_tx            46578 non-null  int8               \n",
            " 96  state_ut            46578 non-null  int8               \n",
            " 97  state_va            46578 non-null  int8               \n",
            " 98  state_wa            46578 non-null  int8               \n",
            " 99  state_wi            46578 non-null  int8               \n",
            "dtypes: datetime64[ns, UTC](1), float64(2), int64(3), int8(88), object(6)\n",
            "memory usage: 9.8+ MB\n"
          ]
        },
        {
          "output_type": "display_data",
          "data": {
            "image/png": "[encoded data removed]",
            "text/plain": [
              "<Figure size 2210.4x667.44 with 2 Axes>"
            ]
          },
          "metadata": {
            "needs_background": "light"
          }
        }
      ]
    },
    {
      "cell_type": "code",
      "metadata": {
        "colab": {
          "base_uri": "https://localhost:8080/"
        },
        "id": "3u6fMTbfRxHJ",
        "outputId": "2a8dccc9-fff6-4d70-d240-c41d3436166d"
      },
      "source": [
        "# \n",
        "cols = [c for c in df_encode.columns]\n",
        "\n",
        "for col in cols:\n",
        "    filter_df = df_encode[[col, 'sellingprice']]\n",
        "    print(filter_df.corr())\n"
      ],
      "execution_count": null,
      "outputs": [
        {
          "output_type": "stream",
          "name": "stdout",
          "text": [
            "                  year  sellingprice\n",
            "year          1.000000      0.583867\n",
            "sellingprice  0.583867      1.000000\n",
            "              sellingprice\n",
            "sellingprice           1.0\n",
            "              sellingprice\n",
            "sellingprice           1.0\n",
            "              transmission  sellingprice\n",
            "transmission      1.000000     -0.049679\n",
            "sellingprice     -0.049679      1.000000\n",
            "              sellingprice\n",
            "sellingprice           1.0\n",
            "              condition  sellingprice\n",
            "condition       1.00000       0.53159\n",
            "sellingprice    0.53159       1.00000\n",
            "              odometer  sellingprice\n",
            "odometer      1.000000     -0.583714\n",
            "sellingprice -0.583714      1.000000\n",
            "              sellingprice\n",
            "sellingprice           1.0\n",
            "              sellingprice\n",
            "sellingprice           1.0\n",
            "              sellingprice\n",
            "sellingprice           1.0\n",
            "                   mmr  sellingprice\n",
            "mmr           1.000000      0.984682\n",
            "sellingprice  0.984682      1.000000\n",
            "              sellingprice  sellingprice\n",
            "sellingprice           1.0           1.0\n",
            "sellingprice           1.0           1.0\n",
            "              sellingprice\n",
            "sellingprice           1.0\n",
            "              body_Coupe  sellingprice\n",
            "body_Coupe      1.000000      0.059917\n",
            "sellingprice    0.059917      1.000000\n",
            "                body_Hatchback  sellingprice\n",
            "body_Hatchback        1.000000     -0.079022\n",
            "sellingprice         -0.079022      1.000000\n",
            "                body_Mini- van  sellingprice\n",
            "body_Mini- van        1.000000     -0.043023\n",
            "sellingprice         -0.043023      1.000000\n",
            "                   body_Pickup Truck  sellingprice\n",
            "body_Pickup Truck           1.000000      0.137673\n",
            "sellingprice                0.137673      1.000000\n",
            "              body_SUV  sellingprice\n",
            "body_SUV      1.000000      0.155578\n",
            "sellingprice  0.155578      1.000000\n",
            "              body_Sedan  sellingprice\n",
            "body_Sedan      1.000000     -0.174859\n",
            "sellingprice   -0.174859      1.000000\n",
            "              body_Wagon  sellingprice\n",
            "body_Wagon      1.000000     -0.070658\n",
            "sellingprice   -0.070658      1.000000\n",
            "                   make_Aston Martin  sellingprice\n",
            "make_Aston Martin           1.000000      0.029471\n",
            "sellingprice                0.029471      1.000000\n",
            "              make_Audi  sellingprice\n",
            "make_Audi      1.000000      0.070215\n",
            "sellingprice   0.070215      1.000000\n",
            "              make_BMW  sellingprice\n",
            "make_BMW      1.000000      0.158058\n",
            "sellingprice  0.158058      1.000000\n",
            "              make_Bentley  sellingprice\n",
            "make_Bentley      1.000000      0.074038\n",
            "sellingprice      0.074038      1.000000\n",
            "              make_Buick  sellingprice\n",
            "make_Buick      1.000000     -0.036184\n",
            "sellingprice   -0.036184      1.000000\n",
            "               make_Cadillac  sellingprice\n",
            "make_Cadillac       1.000000      0.008609\n",
            "sellingprice        0.008609      1.000000\n",
            "                make_Chevrolet  sellingprice\n",
            "make_Chevrolet         1.00000      -0.07271\n",
            "sellingprice          -0.07271       1.00000\n",
            "               make_Chrysler  sellingprice\n",
            "make_Chrysler       1.000000     -0.066322\n",
            "sellingprice       -0.066322      1.000000\n",
            "              make_Dodge  sellingprice\n",
            "make_Dodge      1.000000     -0.070086\n",
            "sellingprice   -0.070086      1.000000\n",
            "              make_FIAT  sellingprice\n",
            "make_FIAT      1.000000     -0.014407\n",
            "sellingprice  -0.014407      1.000000\n",
            "              make_Ferrari  sellingprice\n",
            "make_Ferrari       1.00000       0.04998\n",
            "sellingprice       0.04998       1.00000\n",
            "              make_Fisker  sellingprice\n",
            "make_Fisker      1.000000      0.026949\n",
            "sellingprice     0.026949      1.000000\n",
            "              make_Ford  sellingprice\n",
            "make_Ford      1.000000      0.054472\n",
            "sellingprice   0.054472      1.000000\n",
            "              make_GMC  sellingprice\n",
            "make_GMC      1.000000      0.047648\n",
            "sellingprice  0.047648      1.000000\n",
            "              make_Geo  sellingprice\n",
            "make_Geo      1.000000     -0.009074\n",
            "sellingprice -0.009074      1.000000\n",
            "              make_HUMMER  sellingprice\n",
            "make_HUMMER      1.000000      0.002592\n",
            "sellingprice     0.002592      1.000000\n",
            "              make_Honda  sellingprice\n",
            "make_Honda      1.000000     -0.064596\n",
            "sellingprice   -0.064596      1.000000\n",
            "              make_Hyundai  sellingprice\n",
            "make_Hyundai      1.000000     -0.052905\n",
            "sellingprice     -0.052905      1.000000\n",
            "               make_Infiniti  sellingprice\n",
            "make_Infiniti       1.000000      0.122331\n",
            "sellingprice        0.122331      1.000000\n",
            "              make_Isuzu  sellingprice\n",
            "make_Isuzu       1.00000      -0.02381\n",
            "sellingprice    -0.02381       1.00000\n",
            "              make_Jaguar  sellingprice\n",
            "make_Jaguar      1.000000      0.036941\n",
            "sellingprice     0.036941      1.000000\n",
            "              make_Jeep  sellingprice\n",
            "make_Jeep      1.000000      0.020458\n",
            "sellingprice   0.020458      1.000000\n",
            "              make_Kia  sellingprice\n",
            "make_Kia      1.000000     -0.040852\n",
            "sellingprice -0.040852      1.000000\n",
            "                 make_Land Rover  sellingprice\n",
            "make_Land Rover         1.000000      0.105972\n",
            "sellingprice            0.105972      1.000000\n",
            "              make_Lexus  sellingprice\n",
            "make_Lexus        1.0000        0.1097\n",
            "sellingprice      0.1097        1.0000\n",
            "              make_Lincoln  sellingprice\n",
            "make_Lincoln      1.000000      0.046469\n",
            "sellingprice      0.046469      1.000000\n",
            "              make_MINI  sellingprice\n",
            "make_MINI      1.000000     -0.012389\n",
            "sellingprice  -0.012389      1.000000\n",
            "               make_Maserati  sellingprice\n",
            "make_Maserati       1.000000      0.053209\n",
            "sellingprice        0.053209      1.000000\n",
            "              make_Mazda  sellingprice\n",
            "make_Mazda      1.000000     -0.044089\n",
            "sellingprice   -0.044089      1.000000\n",
            "                    make_Mercedes-Benz  sellingprice\n",
            "make_Mercedes-Benz            1.000000      0.137718\n",
            "sellingprice                  0.137718      1.000000\n",
            "              make_Mercury  sellingprice\n",
            "make_Mercury      1.000000     -0.056341\n",
            "sellingprice     -0.056341      1.000000\n",
            "                 make_Mitsubishi  sellingprice\n",
            "make_Mitsubishi         1.000000     -0.053659\n",
            "sellingprice           -0.053659      1.000000\n",
            "              make_Nissan  sellingprice\n",
            "make_Nissan      1.000000     -0.062401\n",
            "sellingprice    -0.062401      1.000000\n",
            "                 make_Oldsmobile  sellingprice\n",
            "make_Oldsmobile         1.000000     -0.030287\n",
            "sellingprice           -0.030287      1.000000\n",
            "               make_Plymouth  sellingprice\n",
            "make_Plymouth       1.000000      0.001314\n",
            "sellingprice        0.001314      1.000000\n",
            "              make_Pontiac  sellingprice\n",
            "make_Pontiac      1.000000     -0.094391\n",
            "sellingprice     -0.094391      1.000000\n",
            "              make_Porsche  sellingprice\n",
            "make_Porsche      1.000000      0.129784\n",
            "sellingprice      0.129784      1.000000\n",
            "              make_Ram  sellingprice\n",
            "make_Ram      1.000000      0.109745\n",
            "sellingprice  0.109745      1.000000\n",
            "              make_Saab  sellingprice\n",
            "make_Saab      1.000000     -0.030581\n",
            "sellingprice  -0.030581      1.000000\n",
            "              make_Saturn  sellingprice\n",
            "make_Saturn      1.000000     -0.085365\n",
            "sellingprice    -0.085365      1.000000\n",
            "              make_Scion  sellingprice\n",
            "make_Scion      1.000000     -0.023512\n",
            "sellingprice   -0.023512      1.000000\n",
            "              make_Subaru  sellingprice\n",
            "make_Subaru      1.000000      0.015652\n",
            "sellingprice     0.015652      1.000000\n",
            "              make_Suzuki  sellingprice\n",
            "make_Suzuki      1.000000     -0.043623\n",
            "sellingprice    -0.043623      1.000000\n",
            "              make_Toyota  sellingprice\n",
            "make_Toyota      1.000000     -0.037472\n",
            "sellingprice    -0.037472      1.000000\n",
            "                 make_Volkswagen  sellingprice\n",
            "make_Volkswagen          1.00000      -0.06403\n",
            "sellingprice            -0.06403       1.00000\n",
            "              make_Volvo  sellingprice\n",
            "make_Volvo      1.000000     -0.017854\n",
            "sellingprice   -0.017854      1.000000\n",
            "              make_smart  sellingprice\n",
            "make_smart      1.000000     -0.021463\n",
            "sellingprice   -0.021463      1.000000\n",
            "              state_az  sellingprice\n",
            "state_az      1.000000     -0.012984\n",
            "sellingprice -0.012984      1.000000\n",
            "              state_ca  sellingprice\n",
            "state_ca       1.00000       0.05676\n",
            "sellingprice   0.05676       1.00000\n",
            "              state_co  sellingprice\n",
            "state_co      1.000000      0.016903\n",
            "sellingprice  0.016903      1.000000\n",
            "              state_fl  sellingprice\n",
            "state_fl      1.000000      0.029978\n",
            "sellingprice  0.029978      1.000000\n",
            "              state_ga  sellingprice\n",
            "state_ga      1.000000     -0.019896\n",
            "sellingprice -0.019896      1.000000\n",
            "              state_hi  sellingprice\n",
            "state_hi      1.000000     -0.004405\n",
            "sellingprice -0.004405      1.000000\n",
            "              state_il  sellingprice\n",
            "state_il      1.000000      0.040627\n",
            "sellingprice  0.040627      1.000000\n",
            "              state_in  sellingprice\n",
            "state_in      1.000000     -0.022834\n",
            "sellingprice -0.022834      1.000000\n",
            "              state_la  sellingprice\n",
            "state_la      1.000000     -0.016979\n",
            "sellingprice -0.016979      1.000000\n",
            "              state_ma  sellingprice\n",
            "state_ma      1.000000     -0.081785\n",
            "sellingprice -0.081785      1.000000\n",
            "              state_md  sellingprice\n",
            "state_md      1.000000     -0.091038\n",
            "sellingprice -0.091038      1.000000\n",
            "              state_mi  sellingprice\n",
            "state_mi      1.000000      0.027747\n",
            "sellingprice  0.027747      1.000000\n",
            "              state_mn  sellingprice\n",
            "state_mn      1.000000      0.010232\n",
            "sellingprice  0.010232      1.000000\n",
            "              state_mo  sellingprice\n",
            "state_mo      1.000000      0.017866\n",
            "sellingprice  0.017866      1.000000\n",
            "              state_ms  sellingprice\n",
            "state_ms      1.000000     -0.016224\n",
            "sellingprice -0.016224      1.000000\n",
            "              state_nc  sellingprice\n",
            "state_nc      1.000000     -0.103734\n",
            "sellingprice -0.103734      1.000000\n",
            "              state_ne  sellingprice\n",
            "state_ne      1.000000     -0.004289\n",
            "sellingprice -0.004289      1.000000\n",
            "              state_nj  sellingprice\n",
            "state_nj      1.000000     -0.002571\n",
            "sellingprice -0.002571      1.000000\n",
            "              state_nm  sellingprice\n",
            "state_nm      1.000000     -0.012213\n",
            "sellingprice -0.012213      1.000000\n",
            "              state_nv  sellingprice\n",
            "state_nv      1.000000      0.025686\n",
            "sellingprice  0.025686      1.000000\n",
            "              state_ny  sellingprice\n",
            "state_ny      1.000000     -0.014859\n",
            "sellingprice -0.014859      1.000000\n",
            "              state_oh  sellingprice\n",
            "state_oh      1.000000      0.020953\n",
            "sellingprice  0.020953      1.000000\n",
            "              state_ok  sellingprice\n",
            "state_ok      1.000000     -0.009092\n",
            "sellingprice -0.009092      1.000000\n",
            "              state_or  sellingprice\n",
            "state_or      1.000000     -0.007883\n",
            "sellingprice -0.007883      1.000000\n",
            "              state_pa  sellingprice\n",
            "state_pa      1.000000      0.008154\n",
            "sellingprice  0.008154      1.000000\n",
            "              state_pr  sellingprice\n",
            "state_pr      1.000000     -0.028154\n",
            "sellingprice -0.028154      1.000000\n",
            "              state_sc  sellingprice\n",
            "state_sc      1.000000     -0.027671\n",
            "sellingprice -0.027671      1.000000\n",
            "              state_tn  sellingprice\n",
            "state_tn      1.000000      0.073099\n",
            "sellingprice  0.073099      1.000000\n",
            "              state_tx  sellingprice\n",
            "state_tx      1.000000     -0.012398\n",
            "sellingprice -0.012398      1.000000\n",
            "              state_ut  sellingprice\n",
            "state_ut      1.000000     -0.004577\n",
            "sellingprice -0.004577      1.000000\n",
            "              state_va  sellingprice\n",
            "state_va      1.000000     -0.077601\n",
            "sellingprice -0.077601      1.000000\n",
            "              state_wa  sellingprice\n",
            "state_wa      1.000000      0.008583\n",
            "sellingprice  0.008583      1.000000\n",
            "              state_wi  sellingprice\n",
            "state_wi      1.000000     -0.000686\n",
            "sellingprice -0.000686      1.000000\n"
          ]
        }
      ]
    },
    {
      "cell_type": "markdown",
      "metadata": {
        "id": "a65z088XcaR8"
      },
      "source": [
        "**year**         | **Selected** Significant coorelation between the year and sellingprice                                                                     \n",
        "**make**         | **Selected** Significant coorelation between the make and sellingprice                                                                                    \n",
        "**model**        | **Dropped** Due to many unique values        \n",
        "                                                                              \n",
        "**trim**         | **Dropped** Due to many unique values \n",
        "\n",
        "**body**         | **Selected** Significant coorelation between the body and selling price\n",
        "                                                     \n",
        "**transmission** | **Selected** Although Insignificant coorelation between the transmission and selling price, by exploring transmission it was recognized that automatic transmission on average sell higher than manual transmission            \n",
        "\n",
        "**vin**          | **Dropped** Due to many unique values    \n",
        "             \n",
        "**state**        | **Selected** Significant coorelation between the state and selling price\n",
        "                                                          \n",
        "**condition**    | **Selected** Significant coorelation between the condition and selling price\n",
        "\n",
        "**odometer**     | **Selected** Significant coorelation between the odometer and selling price\n",
        "\n",
        "**color**        | **Dropped** Due to insignificance and color logically, don’t affect the dependent variable.\n",
        "                                                                            \n",
        "**interior**     | **Dropped** Due to insignificance  and interior color logically, don’t affect the dependent variable.\n",
        "                                                                        \n",
        "**seller**       | **Dropped** Due to many unique values \n",
        "                                                           \n",
        "**mmr**          |  **Selected** Significant coorelation between the mmr and selling price \n",
        "                                                         \n",
        "**saledate**     | **Dropped** Due to many unique values   "
      ]
    },
    {
      "cell_type": "markdown",
      "metadata": {
        "id": "5mFWceyTz3nX"
      },
      "source": [
        "## Modelling\n",
        "\n",
        "_Apply the linear regression model below._"
      ]
    },
    {
      "cell_type": "code",
      "metadata": {
        "id": "RiADOvuEz3nX",
        "colab": {
          "base_uri": "https://localhost:8080/"
        },
        "outputId": "05fefb19-5048-4625-e592-ecf444457d90"
      },
      "source": [
        "# spliting the data into a training dataset (used for training the model) and a testing dataset (used to evaluate the model's performance)\n",
        "from sklearn.model_selection import train_test_split\n",
        "from sklearn.linear_model import LinearRegression\n",
        "#selected = ['year', 'condition', 'mmr', 'odometer', 'transmission',\"body_SUV\",\"body_Pickup Truck\",\"body_Sedan\",\"body_Coupe\",\"body_Hatchback\",\"body_Mini- van\",\"body_Wagon\"]\n",
        "dropped=[\"model\",\"trim\",\"vin\",\"color\",\"interior\",\"seller\",\"saledate\"]\n",
        "X = df_encode.drop(dropped,axis=1)\n",
        "y = df_encode['sellingprice']\n",
        "X=X.drop(\"sellingprice\",axis=1)\n",
        "print(X.columns)\n",
        "# test size is 30%\n",
        "X_train, X_test, y_train, y_test = train_test_split(X,y,test_size=0.3,random_state=23)\n",
        "\n",
        "# modelling and fitting\n",
        "lin_reg = LinearRegression()\n",
        "lin_reg.fit(X_train, y_train);"
      ],
      "execution_count": null,
      "outputs": [
        {
          "output_type": "stream",
          "name": "stdout",
          "text": [
            "Index(['year', 'transmission', 'condition', 'odometer', 'mmr', 'body_Coupe',\n",
            "       'body_Hatchback', 'body_Mini- van', 'body_Pickup Truck', 'body_SUV',\n",
            "       'body_Sedan', 'body_Wagon', 'make_Aston Martin', 'make_Audi',\n",
            "       'make_BMW', 'make_Bentley', 'make_Buick', 'make_Cadillac',\n",
            "       'make_Chevrolet', 'make_Chrysler', 'make_Dodge', 'make_FIAT',\n",
            "       'make_Ferrari', 'make_Fisker', 'make_Ford', 'make_GMC', 'make_Geo',\n",
            "       'make_HUMMER', 'make_Honda', 'make_Hyundai', 'make_Infiniti',\n",
            "       'make_Isuzu', 'make_Jaguar', 'make_Jeep', 'make_Kia', 'make_Land Rover',\n",
            "       'make_Lexus', 'make_Lincoln', 'make_MINI', 'make_Maserati',\n",
            "       'make_Mazda', 'make_Mercedes-Benz', 'make_Mercury', 'make_Mitsubishi',\n",
            "       'make_Nissan', 'make_Oldsmobile', 'make_Plymouth', 'make_Pontiac',\n",
            "       'make_Porsche', 'make_Ram', 'make_Saab', 'make_Saturn', 'make_Scion',\n",
            "       'make_Subaru', 'make_Suzuki', 'make_Toyota', 'make_Volkswagen',\n",
            "       'make_Volvo', 'make_smart', 'state_az', 'state_ca', 'state_co',\n",
            "       'state_fl', 'state_ga', 'state_hi', 'state_il', 'state_in', 'state_la',\n",
            "       'state_ma', 'state_md', 'state_mi', 'state_mn', 'state_mo', 'state_ms',\n",
            "       'state_nc', 'state_ne', 'state_nj', 'state_nm', 'state_nv', 'state_ny',\n",
            "       'state_oh', 'state_ok', 'state_or', 'state_pa', 'state_pr', 'state_sc',\n",
            "       'state_tn', 'state_tx', 'state_ut', 'state_va', 'state_wa', 'state_wi'],\n",
            "      dtype='object')\n"
          ]
        }
      ]
    },
    {
      "cell_type": "code",
      "metadata": {
        "colab": {
          "base_uri": "https://localhost:8080/",
          "height": 419
        },
        "id": "rfe4Sw5A4wQT",
        "outputId": "5167ad60-fc30-4210-a7f5-7b72aadb9181"
      },
      "source": [
        "#inspecting the parameters of the fitted linear regression model through calculating theta \n",
        "parameter = ['theta_0'] + ['theta_{}'.format(i+1) for i in range(X.shape[1])]\n",
        "columns = ['y-intersect'] + list(X.columns.values)\n",
        "sk_theta = pd.Series([lin_reg.intercept_] + list(lin_reg.coef_))\n",
        "\n",
        "parameter_df = pd.DataFrame({'parameter':parameter,'column':columns, 'theta_value': sk_theta})\n",
        "parameter_df"
      ],
      "execution_count": null,
      "outputs": [
        {
          "output_type": "execute_result",
          "data": {
            "text/html": [
              "<div>\n",
              "<style scoped>\n",
              "    .dataframe tbody tr th:only-of-type {\n",
              "        vertical-align: middle;\n",
              "    }\n",
              "\n",
              "    .dataframe tbody tr th {\n",
              "        vertical-align: top;\n",
              "    }\n",
              "\n",
              "    .dataframe thead th {\n",
              "        text-align: right;\n",
              "    }\n",
              "</style>\n",
              "<table border=\"1\" class=\"dataframe\">\n",
              "  <thead>\n",
              "    <tr style=\"text-align: right;\">\n",
              "      <th></th>\n",
              "      <th>parameter</th>\n",
              "      <th>column</th>\n",
              "      <th>theta_value</th>\n",
              "    </tr>\n",
              "  </thead>\n",
              "  <tbody>\n",
              "    <tr>\n",
              "      <th>0</th>\n",
              "      <td>theta_0</td>\n",
              "      <td>y-intersect</td>\n",
              "      <td>169740.690212</td>\n",
              "    </tr>\n",
              "    <tr>\n",
              "      <th>1</th>\n",
              "      <td>theta_1</td>\n",
              "      <td>year</td>\n",
              "      <td>-85.709882</td>\n",
              "    </tr>\n",
              "    <tr>\n",
              "      <th>2</th>\n",
              "      <td>theta_2</td>\n",
              "      <td>transmission</td>\n",
              "      <td>-331.376916</td>\n",
              "    </tr>\n",
              "    <tr>\n",
              "      <th>3</th>\n",
              "      <td>theta_3</td>\n",
              "      <td>condition</td>\n",
              "      <td>975.887624</td>\n",
              "    </tr>\n",
              "    <tr>\n",
              "      <th>4</th>\n",
              "      <td>theta_4</td>\n",
              "      <td>odometer</td>\n",
              "      <td>0.001599</td>\n",
              "    </tr>\n",
              "    <tr>\n",
              "      <th>...</th>\n",
              "      <td>...</td>\n",
              "      <td>...</td>\n",
              "      <td>...</td>\n",
              "    </tr>\n",
              "    <tr>\n",
              "      <th>88</th>\n",
              "      <td>theta_88</td>\n",
              "      <td>state_tx</td>\n",
              "      <td>-470.099037</td>\n",
              "    </tr>\n",
              "    <tr>\n",
              "      <th>89</th>\n",
              "      <td>theta_89</td>\n",
              "      <td>state_ut</td>\n",
              "      <td>-1023.606671</td>\n",
              "    </tr>\n",
              "    <tr>\n",
              "      <th>90</th>\n",
              "      <td>theta_90</td>\n",
              "      <td>state_va</td>\n",
              "      <td>-705.444728</td>\n",
              "    </tr>\n",
              "    <tr>\n",
              "      <th>91</th>\n",
              "      <td>theta_91</td>\n",
              "      <td>state_wa</td>\n",
              "      <td>-79.177667</td>\n",
              "    </tr>\n",
              "    <tr>\n",
              "      <th>92</th>\n",
              "      <td>theta_92</td>\n",
              "      <td>state_wi</td>\n",
              "      <td>-545.590938</td>\n",
              "    </tr>\n",
              "  </tbody>\n",
              "</table>\n",
              "<p>93 rows × 3 columns</p>\n",
              "</div>"
            ],
            "text/plain": [
              "   parameter        column    theta_value\n",
              "0    theta_0   y-intersect  169740.690212\n",
              "1    theta_1          year     -85.709882\n",
              "2    theta_2  transmission    -331.376916\n",
              "3    theta_3     condition     975.887624\n",
              "4    theta_4      odometer       0.001599\n",
              "..       ...           ...            ...\n",
              "88  theta_88      state_tx    -470.099037\n",
              "89  theta_89      state_ut   -1023.606671\n",
              "90  theta_90      state_va    -705.444728\n",
              "91  theta_91      state_wa     -79.177667\n",
              "92  theta_92      state_wi    -545.590938\n",
              "\n",
              "[93 rows x 3 columns]"
            ]
          },
          "metadata": {},
          "execution_count": 48
        }
      ]
    },
    {
      "cell_type": "markdown",
      "metadata": {
        "id": "oE33OJTVz3nY"
      },
      "source": [
        "## Model Evaluation & Validation\n",
        "\n",
        "_Evaluate the model you applied and check if it meets the necessary assumptions for the chosen model._"
      ]
    },
    {
      "cell_type": "code",
      "metadata": {
        "id": "P2-6dKAMz3nZ",
        "colab": {
          "base_uri": "https://localhost:8080/"
        },
        "outputId": "a48c8da9-bd46-498d-dc47-a7d9dc3c7f92"
      },
      "source": [
        "# displaying model score\n",
        "print(lin_reg.score(X_test, y_test))\n",
        "y_pred = lin_reg.predict(X_test)"
      ],
      "execution_count": null,
      "outputs": [
        {
          "output_type": "stream",
          "name": "stdout",
          "text": [
            "0.9765760410644078\n"
          ]
        }
      ]
    },
    {
      "cell_type": "code",
      "metadata": {
        "colab": {
          "base_uri": "https://localhost:8080/",
          "height": 363
        },
        "id": "HujAz6VHCxhf",
        "outputId": "c3cd6de3-adcb-468d-cf30-8032d61f5d19"
      },
      "source": [
        "# Checking for linearity\n",
        "f = plt.figure(figsize=(14,5))\n",
        "ax = f.add_subplot(121)\n",
        "sns.scatterplot(x=y_test, y=y_pred, ax=ax, color='r')\n",
        "ax.set_title('Check for Linearity:\\n Actual Vs Predicted value')\n",
        "\n",
        "# Checking for residual normality & mean\n",
        "ax = f.add_subplot(122)\n",
        "sns.histplot(x=(y_test - y_pred), ax=ax, color='b', kde=True)\n",
        "ax.axvline((y_test - y_pred).mean(), color='k', linestyle='--')\n",
        "ax.set_title('Check for Residual normality & mean: \\n Residual eror');"
      ],
      "execution_count": null,
      "outputs": [
        {
          "output_type": "display_data",
          "data": {
            "image/png": "[encoded data removed]",
            "text/plain": [
              "<Figure size 1008x360 with 2 Axes>"
            ]
          },
          "metadata": {
            "needs_background": "light"
          }
        }
      ]
    },
    {
      "cell_type": "code",
      "metadata": {
        "colab": {
          "base_uri": "https://localhost:8080/",
          "height": 417
        },
        "id": "lLqZHsnJC6JL",
        "outputId": "e2b6993f-f686-478d-8bfb-e59d6c2a2a93"
      },
      "source": [
        "# Check for Multivariate Normality\n",
        "# Quantile-Quantile plot\n",
        "f,ax = plt.subplots(1,2,figsize=(14,6))\n",
        "import scipy as sp\n",
        "_,(_,_,r)= sp.stats.probplot((y_test - y_pred), fit=True, plot=ax[0])\n",
        "ax[0].set_title('Check for Multivariate Normality: \\nQ-Q Plot')\n",
        "\n",
        "#Check for Homoscedasticity\n",
        "sns.scatterplot(x=y_pred, y=(y_test - y_pred), ax=ax[1], color='r') \n",
        "ax[1].set_title('Check for Homoscedasticity: \\nResidual Vs Predicted');"
      ],
      "execution_count": null,
      "outputs": [
        {
          "output_type": "display_data",
          "data": {
            "image/png": "[encoded data removed]",
            "text/plain": [
              "<Figure size 1008x432 with 2 Axes>"
            ]
          },
          "metadata": {
            "needs_background": "light"
          }
        }
      ]
    },
    {
      "cell_type": "code",
      "metadata": {
        "colab": {
          "base_uri": "https://localhost:8080/",
          "height": 270
        },
        "id": "l9lySywNWe4O",
        "outputId": "d91b936d-f17e-49cd-e46e-553a460ddd3a"
      },
      "source": [
        "X.head()"
      ],
      "execution_count": null,
      "outputs": [
        {
          "output_type": "execute_result",
          "data": {
            "text/html": [
              "<div>\n",
              "<style scoped>\n",
              "    .dataframe tbody tr th:only-of-type {\n",
              "        vertical-align: middle;\n",
              "    }\n",
              "\n",
              "    .dataframe tbody tr th {\n",
              "        vertical-align: top;\n",
              "    }\n",
              "\n",
              "    .dataframe thead th {\n",
              "        text-align: right;\n",
              "    }\n",
              "</style>\n",
              "<table border=\"1\" class=\"dataframe\">\n",
              "  <thead>\n",
              "    <tr style=\"text-align: right;\">\n",
              "      <th></th>\n",
              "      <th>year</th>\n",
              "      <th>transmission</th>\n",
              "      <th>condition</th>\n",
              "      <th>odometer</th>\n",
              "      <th>mmr</th>\n",
              "      <th>body_Coupe</th>\n",
              "      <th>body_Hatchback</th>\n",
              "      <th>body_Mini- van</th>\n",
              "      <th>body_Pickup Truck</th>\n",
              "      <th>body_SUV</th>\n",
              "      <th>body_Sedan</th>\n",
              "      <th>body_Wagon</th>\n",
              "      <th>make_Aston Martin</th>\n",
              "      <th>make_Audi</th>\n",
              "      <th>make_BMW</th>\n",
              "      <th>make_Bentley</th>\n",
              "      <th>make_Buick</th>\n",
              "      <th>make_Cadillac</th>\n",
              "      <th>make_Chevrolet</th>\n",
              "      <th>make_Chrysler</th>\n",
              "      <th>make_Dodge</th>\n",
              "      <th>make_FIAT</th>\n",
              "      <th>make_Ferrari</th>\n",
              "      <th>make_Fisker</th>\n",
              "      <th>make_Ford</th>\n",
              "      <th>make_GMC</th>\n",
              "      <th>make_Geo</th>\n",
              "      <th>make_HUMMER</th>\n",
              "      <th>make_Honda</th>\n",
              "      <th>make_Hyundai</th>\n",
              "      <th>make_Infiniti</th>\n",
              "      <th>make_Isuzu</th>\n",
              "      <th>make_Jaguar</th>\n",
              "      <th>make_Jeep</th>\n",
              "      <th>make_Kia</th>\n",
              "      <th>make_Land Rover</th>\n",
              "      <th>make_Lexus</th>\n",
              "      <th>make_Lincoln</th>\n",
              "      <th>make_MINI</th>\n",
              "      <th>make_Maserati</th>\n",
              "      <th>...</th>\n",
              "      <th>make_Scion</th>\n",
              "      <th>make_Subaru</th>\n",
              "      <th>make_Suzuki</th>\n",
              "      <th>make_Toyota</th>\n",
              "      <th>make_Volkswagen</th>\n",
              "      <th>make_Volvo</th>\n",
              "      <th>make_smart</th>\n",
              "      <th>state_az</th>\n",
              "      <th>state_ca</th>\n",
              "      <th>state_co</th>\n",
              "      <th>state_fl</th>\n",
              "      <th>state_ga</th>\n",
              "      <th>state_hi</th>\n",
              "      <th>state_il</th>\n",
              "      <th>state_in</th>\n",
              "      <th>state_la</th>\n",
              "      <th>state_ma</th>\n",
              "      <th>state_md</th>\n",
              "      <th>state_mi</th>\n",
              "      <th>state_mn</th>\n",
              "      <th>state_mo</th>\n",
              "      <th>state_ms</th>\n",
              "      <th>state_nc</th>\n",
              "      <th>state_ne</th>\n",
              "      <th>state_nj</th>\n",
              "      <th>state_nm</th>\n",
              "      <th>state_nv</th>\n",
              "      <th>state_ny</th>\n",
              "      <th>state_oh</th>\n",
              "      <th>state_ok</th>\n",
              "      <th>state_or</th>\n",
              "      <th>state_pa</th>\n",
              "      <th>state_pr</th>\n",
              "      <th>state_sc</th>\n",
              "      <th>state_tn</th>\n",
              "      <th>state_tx</th>\n",
              "      <th>state_ut</th>\n",
              "      <th>state_va</th>\n",
              "      <th>state_wa</th>\n",
              "      <th>state_wi</th>\n",
              "    </tr>\n",
              "  </thead>\n",
              "  <tbody>\n",
              "    <tr>\n",
              "      <th>19061</th>\n",
              "      <td>2010</td>\n",
              "      <td>0</td>\n",
              "      <td>1.0</td>\n",
              "      <td>999999.0</td>\n",
              "      <td>2850</td>\n",
              "      <td>0</td>\n",
              "      <td>0</td>\n",
              "      <td>0</td>\n",
              "      <td>0</td>\n",
              "      <td>0</td>\n",
              "      <td>1</td>\n",
              "      <td>0</td>\n",
              "      <td>0</td>\n",
              "      <td>0</td>\n",
              "      <td>0</td>\n",
              "      <td>0</td>\n",
              "      <td>0</td>\n",
              "      <td>0</td>\n",
              "      <td>1</td>\n",
              "      <td>0</td>\n",
              "      <td>0</td>\n",
              "      <td>0</td>\n",
              "      <td>0</td>\n",
              "      <td>0</td>\n",
              "      <td>0</td>\n",
              "      <td>0</td>\n",
              "      <td>0</td>\n",
              "      <td>0</td>\n",
              "      <td>0</td>\n",
              "      <td>0</td>\n",
              "      <td>0</td>\n",
              "      <td>0</td>\n",
              "      <td>0</td>\n",
              "      <td>0</td>\n",
              "      <td>0</td>\n",
              "      <td>0</td>\n",
              "      <td>0</td>\n",
              "      <td>0</td>\n",
              "      <td>0</td>\n",
              "      <td>0</td>\n",
              "      <td>...</td>\n",
              "      <td>0</td>\n",
              "      <td>0</td>\n",
              "      <td>0</td>\n",
              "      <td>0</td>\n",
              "      <td>0</td>\n",
              "      <td>0</td>\n",
              "      <td>0</td>\n",
              "      <td>0</td>\n",
              "      <td>0</td>\n",
              "      <td>0</td>\n",
              "      <td>0</td>\n",
              "      <td>0</td>\n",
              "      <td>0</td>\n",
              "      <td>0</td>\n",
              "      <td>0</td>\n",
              "      <td>0</td>\n",
              "      <td>0</td>\n",
              "      <td>0</td>\n",
              "      <td>0</td>\n",
              "      <td>0</td>\n",
              "      <td>0</td>\n",
              "      <td>0</td>\n",
              "      <td>0</td>\n",
              "      <td>0</td>\n",
              "      <td>0</td>\n",
              "      <td>0</td>\n",
              "      <td>0</td>\n",
              "      <td>1</td>\n",
              "      <td>0</td>\n",
              "      <td>0</td>\n",
              "      <td>0</td>\n",
              "      <td>0</td>\n",
              "      <td>0</td>\n",
              "      <td>0</td>\n",
              "      <td>0</td>\n",
              "      <td>0</td>\n",
              "      <td>0</td>\n",
              "      <td>0</td>\n",
              "      <td>0</td>\n",
              "      <td>0</td>\n",
              "    </tr>\n",
              "    <tr>\n",
              "      <th>686</th>\n",
              "      <td>2003</td>\n",
              "      <td>0</td>\n",
              "      <td>2.0</td>\n",
              "      <td>999999.0</td>\n",
              "      <td>700</td>\n",
              "      <td>0</td>\n",
              "      <td>0</td>\n",
              "      <td>0</td>\n",
              "      <td>0</td>\n",
              "      <td>1</td>\n",
              "      <td>0</td>\n",
              "      <td>0</td>\n",
              "      <td>0</td>\n",
              "      <td>0</td>\n",
              "      <td>0</td>\n",
              "      <td>0</td>\n",
              "      <td>0</td>\n",
              "      <td>0</td>\n",
              "      <td>0</td>\n",
              "      <td>0</td>\n",
              "      <td>0</td>\n",
              "      <td>0</td>\n",
              "      <td>0</td>\n",
              "      <td>0</td>\n",
              "      <td>1</td>\n",
              "      <td>0</td>\n",
              "      <td>0</td>\n",
              "      <td>0</td>\n",
              "      <td>0</td>\n",
              "      <td>0</td>\n",
              "      <td>0</td>\n",
              "      <td>0</td>\n",
              "      <td>0</td>\n",
              "      <td>0</td>\n",
              "      <td>0</td>\n",
              "      <td>0</td>\n",
              "      <td>0</td>\n",
              "      <td>0</td>\n",
              "      <td>0</td>\n",
              "      <td>0</td>\n",
              "      <td>...</td>\n",
              "      <td>0</td>\n",
              "      <td>0</td>\n",
              "      <td>0</td>\n",
              "      <td>0</td>\n",
              "      <td>0</td>\n",
              "      <td>0</td>\n",
              "      <td>0</td>\n",
              "      <td>0</td>\n",
              "      <td>1</td>\n",
              "      <td>0</td>\n",
              "      <td>0</td>\n",
              "      <td>0</td>\n",
              "      <td>0</td>\n",
              "      <td>0</td>\n",
              "      <td>0</td>\n",
              "      <td>0</td>\n",
              "      <td>0</td>\n",
              "      <td>0</td>\n",
              "      <td>0</td>\n",
              "      <td>0</td>\n",
              "      <td>0</td>\n",
              "      <td>0</td>\n",
              "      <td>0</td>\n",
              "      <td>0</td>\n",
              "      <td>0</td>\n",
              "      <td>0</td>\n",
              "      <td>0</td>\n",
              "      <td>0</td>\n",
              "      <td>0</td>\n",
              "      <td>0</td>\n",
              "      <td>0</td>\n",
              "      <td>0</td>\n",
              "      <td>0</td>\n",
              "      <td>0</td>\n",
              "      <td>0</td>\n",
              "      <td>0</td>\n",
              "      <td>0</td>\n",
              "      <td>0</td>\n",
              "      <td>0</td>\n",
              "      <td>0</td>\n",
              "    </tr>\n",
              "    <tr>\n",
              "      <th>40912</th>\n",
              "      <td>2006</td>\n",
              "      <td>0</td>\n",
              "      <td>2.0</td>\n",
              "      <td>999999.0</td>\n",
              "      <td>1800</td>\n",
              "      <td>0</td>\n",
              "      <td>0</td>\n",
              "      <td>0</td>\n",
              "      <td>0</td>\n",
              "      <td>1</td>\n",
              "      <td>0</td>\n",
              "      <td>0</td>\n",
              "      <td>0</td>\n",
              "      <td>0</td>\n",
              "      <td>0</td>\n",
              "      <td>0</td>\n",
              "      <td>0</td>\n",
              "      <td>0</td>\n",
              "      <td>0</td>\n",
              "      <td>0</td>\n",
              "      <td>0</td>\n",
              "      <td>0</td>\n",
              "      <td>0</td>\n",
              "      <td>0</td>\n",
              "      <td>0</td>\n",
              "      <td>0</td>\n",
              "      <td>0</td>\n",
              "      <td>0</td>\n",
              "      <td>0</td>\n",
              "      <td>0</td>\n",
              "      <td>0</td>\n",
              "      <td>0</td>\n",
              "      <td>0</td>\n",
              "      <td>0</td>\n",
              "      <td>0</td>\n",
              "      <td>0</td>\n",
              "      <td>0</td>\n",
              "      <td>0</td>\n",
              "      <td>0</td>\n",
              "      <td>0</td>\n",
              "      <td>...</td>\n",
              "      <td>0</td>\n",
              "      <td>0</td>\n",
              "      <td>0</td>\n",
              "      <td>0</td>\n",
              "      <td>0</td>\n",
              "      <td>0</td>\n",
              "      <td>0</td>\n",
              "      <td>0</td>\n",
              "      <td>0</td>\n",
              "      <td>0</td>\n",
              "      <td>1</td>\n",
              "      <td>0</td>\n",
              "      <td>0</td>\n",
              "      <td>0</td>\n",
              "      <td>0</td>\n",
              "      <td>0</td>\n",
              "      <td>0</td>\n",
              "      <td>0</td>\n",
              "      <td>0</td>\n",
              "      <td>0</td>\n",
              "      <td>0</td>\n",
              "      <td>0</td>\n",
              "      <td>0</td>\n",
              "      <td>0</td>\n",
              "      <td>0</td>\n",
              "      <td>0</td>\n",
              "      <td>0</td>\n",
              "      <td>0</td>\n",
              "      <td>0</td>\n",
              "      <td>0</td>\n",
              "      <td>0</td>\n",
              "      <td>0</td>\n",
              "      <td>0</td>\n",
              "      <td>0</td>\n",
              "      <td>0</td>\n",
              "      <td>0</td>\n",
              "      <td>0</td>\n",
              "      <td>0</td>\n",
              "      <td>0</td>\n",
              "      <td>0</td>\n",
              "    </tr>\n",
              "    <tr>\n",
              "      <th>13150</th>\n",
              "      <td>2014</td>\n",
              "      <td>0</td>\n",
              "      <td>1.0</td>\n",
              "      <td>999999.0</td>\n",
              "      <td>11300</td>\n",
              "      <td>0</td>\n",
              "      <td>0</td>\n",
              "      <td>0</td>\n",
              "      <td>0</td>\n",
              "      <td>0</td>\n",
              "      <td>1</td>\n",
              "      <td>0</td>\n",
              "      <td>0</td>\n",
              "      <td>0</td>\n",
              "      <td>0</td>\n",
              "      <td>0</td>\n",
              "      <td>0</td>\n",
              "      <td>0</td>\n",
              "      <td>0</td>\n",
              "      <td>0</td>\n",
              "      <td>0</td>\n",
              "      <td>0</td>\n",
              "      <td>0</td>\n",
              "      <td>0</td>\n",
              "      <td>0</td>\n",
              "      <td>0</td>\n",
              "      <td>0</td>\n",
              "      <td>0</td>\n",
              "      <td>0</td>\n",
              "      <td>0</td>\n",
              "      <td>0</td>\n",
              "      <td>0</td>\n",
              "      <td>0</td>\n",
              "      <td>0</td>\n",
              "      <td>1</td>\n",
              "      <td>0</td>\n",
              "      <td>0</td>\n",
              "      <td>0</td>\n",
              "      <td>0</td>\n",
              "      <td>0</td>\n",
              "      <td>...</td>\n",
              "      <td>0</td>\n",
              "      <td>0</td>\n",
              "      <td>0</td>\n",
              "      <td>0</td>\n",
              "      <td>0</td>\n",
              "      <td>0</td>\n",
              "      <td>0</td>\n",
              "      <td>0</td>\n",
              "      <td>0</td>\n",
              "      <td>0</td>\n",
              "      <td>0</td>\n",
              "      <td>0</td>\n",
              "      <td>0</td>\n",
              "      <td>0</td>\n",
              "      <td>0</td>\n",
              "      <td>0</td>\n",
              "      <td>0</td>\n",
              "      <td>0</td>\n",
              "      <td>0</td>\n",
              "      <td>0</td>\n",
              "      <td>0</td>\n",
              "      <td>0</td>\n",
              "      <td>0</td>\n",
              "      <td>0</td>\n",
              "      <td>0</td>\n",
              "      <td>0</td>\n",
              "      <td>0</td>\n",
              "      <td>0</td>\n",
              "      <td>0</td>\n",
              "      <td>0</td>\n",
              "      <td>0</td>\n",
              "      <td>0</td>\n",
              "      <td>0</td>\n",
              "      <td>0</td>\n",
              "      <td>0</td>\n",
              "      <td>1</td>\n",
              "      <td>0</td>\n",
              "      <td>0</td>\n",
              "      <td>0</td>\n",
              "      <td>0</td>\n",
              "    </tr>\n",
              "    <tr>\n",
              "      <th>241</th>\n",
              "      <td>1998</td>\n",
              "      <td>0</td>\n",
              "      <td>2.0</td>\n",
              "      <td>999999.0</td>\n",
              "      <td>650</td>\n",
              "      <td>0</td>\n",
              "      <td>0</td>\n",
              "      <td>0</td>\n",
              "      <td>0</td>\n",
              "      <td>0</td>\n",
              "      <td>1</td>\n",
              "      <td>0</td>\n",
              "      <td>0</td>\n",
              "      <td>0</td>\n",
              "      <td>0</td>\n",
              "      <td>0</td>\n",
              "      <td>0</td>\n",
              "      <td>0</td>\n",
              "      <td>0</td>\n",
              "      <td>0</td>\n",
              "      <td>0</td>\n",
              "      <td>0</td>\n",
              "      <td>0</td>\n",
              "      <td>0</td>\n",
              "      <td>0</td>\n",
              "      <td>0</td>\n",
              "      <td>0</td>\n",
              "      <td>0</td>\n",
              "      <td>0</td>\n",
              "      <td>0</td>\n",
              "      <td>0</td>\n",
              "      <td>0</td>\n",
              "      <td>0</td>\n",
              "      <td>0</td>\n",
              "      <td>0</td>\n",
              "      <td>0</td>\n",
              "      <td>1</td>\n",
              "      <td>0</td>\n",
              "      <td>0</td>\n",
              "      <td>0</td>\n",
              "      <td>...</td>\n",
              "      <td>0</td>\n",
              "      <td>0</td>\n",
              "      <td>0</td>\n",
              "      <td>0</td>\n",
              "      <td>0</td>\n",
              "      <td>0</td>\n",
              "      <td>0</td>\n",
              "      <td>0</td>\n",
              "      <td>1</td>\n",
              "      <td>0</td>\n",
              "      <td>0</td>\n",
              "      <td>0</td>\n",
              "      <td>0</td>\n",
              "      <td>0</td>\n",
              "      <td>0</td>\n",
              "      <td>0</td>\n",
              "      <td>0</td>\n",
              "      <td>0</td>\n",
              "      <td>0</td>\n",
              "      <td>0</td>\n",
              "      <td>0</td>\n",
              "      <td>0</td>\n",
              "      <td>0</td>\n",
              "      <td>0</td>\n",
              "      <td>0</td>\n",
              "      <td>0</td>\n",
              "      <td>0</td>\n",
              "      <td>0</td>\n",
              "      <td>0</td>\n",
              "      <td>0</td>\n",
              "      <td>0</td>\n",
              "      <td>0</td>\n",
              "      <td>0</td>\n",
              "      <td>0</td>\n",
              "      <td>0</td>\n",
              "      <td>0</td>\n",
              "      <td>0</td>\n",
              "      <td>0</td>\n",
              "      <td>0</td>\n",
              "      <td>0</td>\n",
              "    </tr>\n",
              "  </tbody>\n",
              "</table>\n",
              "<p>5 rows × 92 columns</p>\n",
              "</div>"
            ],
            "text/plain": [
              "       year  transmission  condition  ...  state_va  state_wa  state_wi\n",
              "19061  2010             0        1.0  ...         0         0         0\n",
              "686    2003             0        2.0  ...         0         0         0\n",
              "40912  2006             0        2.0  ...         0         0         0\n",
              "13150  2014             0        1.0  ...         0         0         0\n",
              "241    1998             0        2.0  ...         0         0         0\n",
              "\n",
              "[5 rows x 92 columns]"
            ]
          },
          "metadata": {},
          "execution_count": 52
        }
      ]
    },
    {
      "cell_type": "code",
      "metadata": {
        "colab": {
          "base_uri": "https://localhost:8080/",
          "height": 453
        },
        "id": "4f4e4PT2UsiC",
        "outputId": "0d316478-a48f-4d91-e48c-4dc17327bc19"
      },
      "source": [
        "# calculating VIF, VIF>10  implies high multicolinearity\n",
        "# variance inflation factor (VIF) identifies correlation between independent variables and strength of that correlation\n",
        "from statsmodels.stats.outliers_influence import variance_inflation_factor\n",
        "\n",
        "VIF_data = pd.DataFrame()\n",
        "VIF_data['feature'] = X.columns \n",
        "\n",
        "VIF_data['VIF'] = [variance_inflation_factor(X.values, i) for i in range(X.shape[1])]\n",
        "VIF_data"
      ],
      "execution_count": null,
      "outputs": [
        {
          "output_type": "stream",
          "name": "stderr",
          "text": [
            "/usr/local/lib/python3.7/dist-packages/statsmodels/tools/_testing.py:19: FutureWarning: pandas.util.testing is deprecated. Use the functions in the public API at pandas.testing instead.\n",
            "  import pandas.util.testing as tm\n"
          ]
        },
        {
          "output_type": "execute_result",
          "data": {
            "text/html": [
              "<div>\n",
              "<style scoped>\n",
              "    .dataframe tbody tr th:only-of-type {\n",
              "        vertical-align: middle;\n",
              "    }\n",
              "\n",
              "    .dataframe tbody tr th {\n",
              "        vertical-align: top;\n",
              "    }\n",
              "\n",
              "    .dataframe thead th {\n",
              "        text-align: right;\n",
              "    }\n",
              "</style>\n",
              "<table border=\"1\" class=\"dataframe\">\n",
              "  <thead>\n",
              "    <tr style=\"text-align: right;\">\n",
              "      <th></th>\n",
              "      <th>feature</th>\n",
              "      <th>VIF</th>\n",
              "    </tr>\n",
              "  </thead>\n",
              "  <tbody>\n",
              "    <tr>\n",
              "      <th>0</th>\n",
              "      <td>year</td>\n",
              "      <td>45114.038024</td>\n",
              "    </tr>\n",
              "    <tr>\n",
              "      <th>1</th>\n",
              "      <td>transmission</td>\n",
              "      <td>1.144169</td>\n",
              "    </tr>\n",
              "    <tr>\n",
              "      <th>2</th>\n",
              "      <td>condition</td>\n",
              "      <td>22.384634</td>\n",
              "    </tr>\n",
              "    <tr>\n",
              "      <th>3</th>\n",
              "      <td>odometer</td>\n",
              "      <td>6.226735</td>\n",
              "    </tr>\n",
              "    <tr>\n",
              "      <th>4</th>\n",
              "      <td>mmr</td>\n",
              "      <td>8.228762</td>\n",
              "    </tr>\n",
              "    <tr>\n",
              "      <th>...</th>\n",
              "      <td>...</td>\n",
              "      <td>...</td>\n",
              "    </tr>\n",
              "    <tr>\n",
              "      <th>87</th>\n",
              "      <td>state_tx</td>\n",
              "      <td>3899.965083</td>\n",
              "    </tr>\n",
              "    <tr>\n",
              "      <th>88</th>\n",
              "      <td>state_ut</td>\n",
              "      <td>152.926596</td>\n",
              "    </tr>\n",
              "    <tr>\n",
              "      <th>89</th>\n",
              "      <td>state_va</td>\n",
              "      <td>950.974092</td>\n",
              "    </tr>\n",
              "    <tr>\n",
              "      <th>90</th>\n",
              "      <td>state_wa</td>\n",
              "      <td>659.961444</td>\n",
              "    </tr>\n",
              "    <tr>\n",
              "      <th>91</th>\n",
              "      <td>state_wi</td>\n",
              "      <td>941.926120</td>\n",
              "    </tr>\n",
              "  </tbody>\n",
              "</table>\n",
              "<p>92 rows × 2 columns</p>\n",
              "</div>"
            ],
            "text/plain": [
              "         feature           VIF\n",
              "0           year  45114.038024\n",
              "1   transmission      1.144169\n",
              "2      condition     22.384634\n",
              "3       odometer      6.226735\n",
              "4            mmr      8.228762\n",
              "..           ...           ...\n",
              "87      state_tx   3899.965083\n",
              "88      state_ut    152.926596\n",
              "89      state_va    950.974092\n",
              "90      state_wa    659.961444\n",
              "91      state_wi    941.926120\n",
              "\n",
              "[92 rows x 2 columns]"
            ]
          },
          "metadata": {},
          "execution_count": 53
        }
      ]
    },
    {
      "cell_type": "code",
      "metadata": {
        "colab": {
          "base_uri": "https://localhost:8080/"
        },
        "id": "pM_IQSWvZRd3",
        "outputId": "bcf6dde2-e0e0-413f-faec-46cd5c2c4af7"
      },
      "source": [
        "vif_features_drop = VIF_data[VIF_data['VIF'] > 10]\n",
        "print(vif_features_drop.count())\n",
        "columns = vif_features_drop[\"feature\"].tolist()\n",
        "columns\n"
      ],
      "execution_count": null,
      "outputs": [
        {
          "output_type": "stream",
          "name": "stdout",
          "text": [
            "feature    39\n",
            "VIF        39\n",
            "dtype: int64\n"
          ]
        },
        {
          "output_type": "execute_result",
          "data": {
            "text/plain": [
              "['year',\n",
              " 'condition',\n",
              " 'body_SUV',\n",
              " 'body_Sedan',\n",
              " 'make_Chevrolet',\n",
              " 'make_Ford',\n",
              " 'make_Nissan',\n",
              " 'state_az',\n",
              " 'state_ca',\n",
              " 'state_co',\n",
              " 'state_fl',\n",
              " 'state_ga',\n",
              " 'state_hi',\n",
              " 'state_il',\n",
              " 'state_in',\n",
              " 'state_la',\n",
              " 'state_ma',\n",
              " 'state_md',\n",
              " 'state_mi',\n",
              " 'state_mn',\n",
              " 'state_mo',\n",
              " 'state_ms',\n",
              " 'state_nc',\n",
              " 'state_ne',\n",
              " 'state_nj',\n",
              " 'state_nm',\n",
              " 'state_nv',\n",
              " 'state_ny',\n",
              " 'state_oh',\n",
              " 'state_or',\n",
              " 'state_pa',\n",
              " 'state_pr',\n",
              " 'state_sc',\n",
              " 'state_tn',\n",
              " 'state_tx',\n",
              " 'state_ut',\n",
              " 'state_va',\n",
              " 'state_wa',\n",
              " 'state_wi']"
            ]
          },
          "metadata": {},
          "execution_count": 54
        }
      ]
    },
    {
      "cell_type": "code",
      "metadata": {
        "id": "q_YMQHRHVzL7"
      },
      "source": [
        "# eliminating multicolinear data for data validation\n",
        "X_noMulticollinearity=X.drop(columns,axis=1)\n",
        "X_train, X_test, y_train, y_test = train_test_split(X_noMulticollinearity,y,test_size=0.3,random_state=23)\n",
        "\n",
        "lin_reg = LinearRegression()\n",
        "lin_reg.fit(X_train, y_train);"
      ],
      "execution_count": null,
      "outputs": []
    },
    {
      "cell_type": "code",
      "metadata": {
        "colab": {
          "base_uri": "https://localhost:8080/"
        },
        "id": "YLLF_9dqVzZe",
        "outputId": "b6476ae6-22a6-476d-b0c5-92a01f96ad9c"
      },
      "source": [
        "print(lin_reg.score(X_test, y_test))\n",
        "y_pred = lin_reg.predict(X_test)"
      ],
      "execution_count": null,
      "outputs": [
        {
          "output_type": "stream",
          "name": "stdout",
          "text": [
            "0.9698929086213456\n"
          ]
        }
      ]
    },
    {
      "cell_type": "code",
      "metadata": {
        "colab": {
          "base_uri": "https://localhost:8080/"
        },
        "id": "k23HOyIielHG",
        "outputId": "8ce23aaf-0c3d-4346-a2e5-aa2d06805208"
      },
      "source": [
        "# sklearn regression module\n",
        "y_pred_sk = lin_reg.predict(X_test)\n",
        "\n",
        "#Evaluation: MSE\n",
        "from sklearn.metrics import mean_squared_error\n",
        "J_mse_sk = mean_squared_error(y_pred_sk, y_test)\n",
        "\n",
        "# R2\n",
        "# R2  is statistical measure of how close data are to the fitted regression line\n",
        "R_square_sk = lin_reg.score(X_test,y_test)\n",
        "print('The Mean Square Error(MSE) or J(beta) is: ', J_mse_sk)\n",
        "print('R square obtain for scikit learn library is :', R_square_sk)"
      ],
      "execution_count": null,
      "outputs": [
        {
          "output_type": "stream",
          "name": "stdout",
          "text": [
            "The Mean Square Error(MSE) or J(beta) is:  2842115.5733464286\n",
            "R square obtain for scikit learn library is : 0.9698929086213456\n"
          ]
        }
      ]
    },
    {
      "cell_type": "code",
      "metadata": {
        "colab": {
          "base_uri": "https://localhost:8080/",
          "height": 363
        },
        "id": "uMaIgvRJgnQ8",
        "outputId": "d6f9c4c0-9594-415f-9685-6a1662a3c759"
      },
      "source": [
        "# Checking for linearity\n",
        "f = plt.figure(figsize=(14,5))\n",
        "ax = f.add_subplot(121)\n",
        "sns.scatterplot(x=y_test, y=y_pred, ax=ax, color='r')\n",
        "ax.set_title('Check for Linearity:\\n Actual Vs Predicted value')\n",
        "\n",
        "# Checking for residual normality & mean\n",
        "ax = f.add_subplot(122)\n",
        "sns.histplot(x=(y_test - y_pred), ax=ax, color='b', kde=True)\n",
        "ax.axvline((y_test - y_pred).mean(), color='k', linestyle='--')\n",
        "ax.set_title('Check for Residual normality & mean: \\n Residual eror');"
      ],
      "execution_count": null,
      "outputs": [
        {
          "output_type": "display_data",
          "data": {
            "image/png": "[encoded data removed]",
            "text/plain": [
              "<Figure size 1008x360 with 2 Axes>"
            ]
          },
          "metadata": {
            "needs_background": "light"
          }
        }
      ]
    },
    {
      "cell_type": "code",
      "metadata": {
        "colab": {
          "base_uri": "https://localhost:8080/",
          "height": 417
        },
        "id": "4AfvtDtOhcxM",
        "outputId": "f6cb6810-89ec-434d-fca8-2049cb462fcb"
      },
      "source": [
        "# Check for Multivariate Normality\n",
        "# Quantile-Quantile plot\n",
        "f,ax = plt.subplots(1,2,figsize=(14,6))\n",
        "import scipy as sp\n",
        "_,(_,_,r)= sp.stats.probplot((y_test - y_pred), fit=True, plot=ax[0])\n",
        "ax[0].set_title('Check for Multivariate Normality: \\nQ-Q Plot')\n",
        "\n",
        "#Check for Homoscedasticity\n",
        "sns.scatterplot(x=y_pred, y=(y_test - y_pred), ax=ax[1], color='r') \n",
        "ax[1].set_title('Check for Homoscedasticity: \\nResidual Vs Predicted');"
      ],
      "execution_count": null,
      "outputs": [
        {
          "output_type": "display_data",
          "data": {
            "image/png": "[encoded data removed]",
            "text/plain": [
              "<Figure size 1008x432 with 2 Axes>"
            ]
          },
          "metadata": {
            "needs_background": "light"
          }
        }
      ]
    },
    {
      "cell_type": "markdown",
      "metadata": {
        "id": "FBMjBPVuz3nZ"
      },
      "source": [
        "## Conclusion and Recommendations\n",
        "\n",
        "Comment on the model accuracy and your findings from model evaluation and validation. State the problems (if any) and suggest possible solutions. Would you recommend this model for a used cars dealership that wants to get reliable estimates for used car prices?\n",
        "\n",
        "**Answer**: In this model, the actual vs predicted plot of selling prices is almost perfectly linear.\n",
        "The residual mean is zero and the residual error plot is not skewed.\n",
        "Q-Q plot shows that the model variables are multivariate normal\n",
        "The plot is homoscedastic, meaning the residuals have constant variance (the data has a funnel or cone shape).\n",
        "The VIF value had attributes exceeding 10 which are eliminated in second model, so the data does not exhibit high multicollinearity. R^2 indicates that a model explains all the variablity of the response data around the mean. \n",
        "Regarding the  recommendation of the model for cars dealership that wants to get reliable estimates for used car prices, we would recommend the model as it has high accuracy and it have high R^2 which means it perform better than the mean. Nevertheless, there is some concerns regarding overfiiting, as the R^2 is too high and almost all dependent variables are explained"
      ]
    },
    {
      "cell_type": "code",
      "metadata": {
        "id": "sEhBLo1GYv-L"
      },
      "source": [
        ""
      ],
      "execution_count": null,
      "outputs": []
    }
  ]
}